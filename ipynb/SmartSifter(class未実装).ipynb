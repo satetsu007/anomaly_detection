{
 "cells": [
  {
   "cell_type": "markdown",
   "metadata": {},
   "source": [
    "# SmartSifter"
   ]
  },
  {
   "cell_type": "code",
   "execution_count": 1,
   "metadata": {
    "collapsed": true
   },
   "outputs": [],
   "source": [
    "#-*- coding:utf-8 -*-\n",
    "import os\n",
    "home = os.getcwd()\n",
    "os.chdir(\"../src/\")\n",
    "from sdle import SDLE\n",
    "from sdem import SDEM\n",
    "os.chdir(home)\n",
    "\n",
    "import numpy as np\n",
    "import pandas as pd\n",
    "import matplotlib.pyplot as plt\n",
    "import numpy.random as rd\n",
    "import itertools\n",
    "from mpl_toolkits.mplot3d import Axes3D\n",
    "from scipy import stats as st\n",
    "\n",
    "%matplotlib inline"
   ]
  },
  {
   "cell_type": "code",
   "execution_count": 2,
   "metadata": {
    "collapsed": true
   },
   "outputs": [],
   "source": [
    "def d_h_Gauss(mu, sigma, mu_prev, sigma_prev):\n",
    "    '''\n",
    "    t時点とt-1時点におけるガウス分布間のヘリンジャー距離\n",
    "    '''\n",
    "    #第2項\n",
    "    m = 2 * np.linalg.det((np.linalg.inv(sigma) + np.linalg.inv(sigma_prev)) / 2) ** (-1/2) #分子\n",
    "    d = (np.linalg.det(sigma) ** (1/4)) * (np.linalg.det(sigma_prev) ** (1/4)) #分母\n",
    "    A = m / d\n",
    "    \n",
    "    #第3項 1番目exp\n",
    "    B_0 = (np.dot(np.linalg.inv(sigma), mu) + np.dot(np.linalg.inv(sigma_prev), mu_prev)).T #要素1\n",
    "    B_1 = np.linalg.inv(np.linalg.inv(sigma) + np.linalg.inv(sigma_prev)) #要素2\n",
    "    B_2 = np.dot(np.linalg.inv(sigma), mu) + np.dot(np.linalg.inv(sigma_prev), mu_prev) #要素3\n",
    "    B = np.exp((1/2) * np.dot(np.dot(B_0, B_1), B_2))\n",
    "    \n",
    "    #第3項 2番目exp\n",
    "    C_0 = np.dot(np.dot(mu.T, np.linalg.inv(sigma)), mu) + np.dot(np.dot(mu_prev.T, np.linalg.inv(sigma_prev)), mu_prev) #要素\n",
    "    C = np.exp(-(1/2) * C_0)\n",
    "    \n",
    "    #ヘリンジャー距離の計算\n",
    "    d_h = 2 - A * B * C\n",
    "    \n",
    "    return d_h\n",
    "\n",
    "\n",
    "def d_h_GMM(pi, pi_prev, mu, sigma, mu_prev, sigma_prev, k):\n",
    "    '''\n",
    "    t時点とt-1時点における混合ガウス分布のヘリンジャー距離\n",
    "    '''\n",
    "    d_h = 0\n",
    "    for i in range(k):\n",
    "        d_h_G = d_h_Gauss(mu[i], sigma[i], mu_prev[i], sigma_prev[i])\n",
    "        d_h += (np.sqrt(pi[i]) - np.sqrt(pi_prev[i])) ** 2 + (pi[i] + pi_prev[i])/2 * d_h_G\n",
    "    \n",
    "    return d_h\n",
    "\n",
    "\n",
    "def calc_hellinger_score(p, p_prev, sdem, t, r, k, M):\n",
    "    '''\n",
    "    ヘリンジャースコアを計算する関数\n",
    "    '''\n",
    "    S_H = 0\n",
    "    for m in range(M):\n",
    "        d_h = d_h_GMM(sdem[m].pi[t], sdem[m].pi[t-1] ,sdem[m].mu[t], sdem[m].sigma[t], \n",
    "                      sdem[m].mu[t-1], sdem[m].sigma[t-1], k)\n",
    "        tmp = np.sqrt(p[m] * p_prev[m]) #√(p_t(x)*p_t_1(x))      \n",
    "        S_H += tmp * (d_h - 2)\n",
    "    S_H += 2\n",
    "    S_H /= r**2\n",
    "    \n",
    "    return S_H"
   ]
  },
  {
   "cell_type": "code",
   "execution_count": 3,
   "metadata": {
    "collapsed": true
   },
   "outputs": [],
   "source": [
    "seed = 0\n",
    "#データ生成(離散値ベクトル)\n",
    "rd.seed(seed)\n",
    "T = 500 #データ数(観測数)\n",
    "x = np.array([np.argmax(i) for i in rd.multinomial(1, [1/6]*6,T)])\n",
    "x = np.array([np.argmax(i) for i in rd.multinomial(1, [1]*1,T)])\n",
    "#x = np.zeros(T)\n",
    "\n",
    "#データ生成(連続変数ベクトル)\n",
    "n = [200, 150, 150] #各データ数\n",
    "K = 3 #潜在変数の数\n",
    "D = 2 #次元\n",
    "\n",
    "#mu:D次元\n",
    "mu_true = np.array(\n",
    "    [[0.2, 0.5],\n",
    "     [1.2, 0.5],\n",
    "     [2.0, 0.5]])\n",
    "\n",
    "#sigma: D×D次元\n",
    "sigma_true = np.array(\n",
    "    [[[0.1,  0.085], [0.085, 0.1]],\n",
    "     [[0.1, -0.085], [-0.085, 0.1]],\n",
    "     [[0.1,  0.085], [0.085, 0.1]]\n",
    "    ])\n",
    "\n",
    "rd.seed(seed)\n",
    "org_data = None\n",
    "for i in range(K):\n",
    "    #k_0 に属するデータを生成\n",
    "    if org_data is None:\n",
    "        org_data = np.c_[st.multivariate_normal.rvs(mean=mu_true[i], cov=sigma_true[i], size=n[i]), np.ones(n[i])*i]\n",
    "        \n",
    "    #k_1, k_2に属するデータを生成し、結合する\n",
    "    else:\n",
    "        tmp_data = np.c_[st.multivariate_normal.rvs(mean=mu_true[i], cov=sigma_true[i], size=n[i]), np.ones(n[i])*i]\n",
    "        org_data = np.r_[org_data, tmp_data]\n",
    "\n",
    "#print(org_data)\n",
    "y = org_data[:, :2]"
   ]
  },
  {
   "cell_type": "code",
   "execution_count": 4,
   "metadata": {
    "collapsed": true
   },
   "outputs": [],
   "source": [
    "#パラメータの設定\n",
    "#SDLE\n",
    "A = list(itertools.product(set(x)))\n",
    "r = 1 / len(x) #忘却パラメータ\n",
    "beta = 1 #正の定数\n",
    "\n",
    "#SDEM\n",
    "alpha = 1.0 #(1.0~2.0)\n",
    "r = 1 / T\n",
    "k = K #潜在変数の数\n",
    "d = D #次元"
   ]
  },
  {
   "cell_type": "code",
   "execution_count": 5,
   "metadata": {
    "collapsed": true
   },
   "outputs": [],
   "source": [
    "# オブジェクトの初期化\n",
    "sdle = SDLE(r, beta, A)\n",
    "sdem = [SDEM(r, alpha, k, d) for i in range(len(A))]"
   ]
  },
  {
   "cell_type": "code",
   "execution_count": 6,
   "metadata": {
    "collapsed": true
   },
   "outputs": [],
   "source": [
    "#結果保存用\n",
    "p = np.zeros((1,len(A))) #同時確率\n",
    "S_H = [] #ヘリンジャースコア\n",
    "S_L = [] #シャノン情報量(対数損失)"
   ]
  },
  {
   "cell_type": "code",
   "execution_count": 7,
   "metadata": {
    "collapsed": false
   },
   "outputs": [
    {
     "name": "stderr",
     "output_type": "stream",
     "text": [
      "/Users/satetsu/anaconda/lib/python3.6/site-packages/ipykernel/__main__.py:28: RuntimeWarning: divide by zero encountered in log\n"
     ]
    }
   ],
   "source": [
    "t = 1\n",
    "while t <= len(x):\n",
    "    #SDLE\n",
    "    sdle.update(x[t-1])\n",
    "    \n",
    "    #p に一行追加\n",
    "    p_new = np.zeros((1,len(A)))\n",
    "    p = np.concatenate([p, p_new])\n",
    "    \n",
    "    #SDEM: 各セルに対応する混合ガウス分布のパラメータと確率を推定\n",
    "    for m, A_m in enumerate(sdle.A):\n",
    "        if m == int(sdle.flag):\n",
    "            sdem[m].update(y[t-1])\n",
    "            p_y_x = np.dot(sdem[m].prob[t], sdem[m].pi[t])\n",
    "            p[t, m] = p_y_x * sdle.prob[t, int(sdle.flag)] #t時点における同時確率:p_t(x,y)\n",
    "        else:\n",
    "            sdem[m].skip()\n",
    "            p[t, m] = p[t-1, m]\n",
    "            \n",
    "    #スコア計算(シャノン情報量)\n",
    "    p_x_prev = sdle.prob[t-1, sdle.flag]\n",
    "    pi_prev = sdem[int(sdle.flag)].pi[t-1]\n",
    "    mu_prev = sdem[int(sdle.flag)].mu[t-1]\n",
    "    sigma_prev = sdem[int(sdle.flag)].sigma[t-1]\n",
    "    p_Gauss_prev = sdem[int(sdle.flag)].calc_prob(y[t-1], mu_prev, sigma_prev)\n",
    "    p_y_x_prev = np.dot(pi_prev, p_Gauss_prev)\n",
    "    p_prev_params = p_x_prev * p_y_x_prev #t-1時点のパラメータによる同時確率:P(x,y)\n",
    "    s_l = -np.log(p_prev_params) #シャノン情報量を計算\n",
    "    S_L.append(s_l)\n",
    "    \n",
    "    #ヘリンジャースコア\n",
    "    s_h = calc_hellinger_score(sdle.prob[t], sdle.prob[t-1], sdem, t, r, k, sdle.M)\n",
    "    S_H.append(s_h)\n",
    "    \n",
    "    t += 1"
   ]
  },
  {
   "cell_type": "code",
   "execution_count": 8,
   "metadata": {
    "collapsed": true
   },
   "outputs": [],
   "source": [
    "df = pd.DataFrame(x)\n",
    "df_S_L = pd.DataFrame(S_L)\n",
    "df_S_H = pd.DataFrame(S_H)\n",
    "df_S_L.columns = [\"S_L\"]\n",
    "df_S_H.columns = [\"S_H\"]\n",
    "df = pd.concat([df, df_S_L, df_S_H], axis=1)"
   ]
  },
  {
   "cell_type": "code",
   "execution_count": 9,
   "metadata": {
    "collapsed": false
   },
   "outputs": [
    {
     "data": {
      "text/plain": [
       "[<matplotlib.lines.Line2D at 0x127e6bb38>]"
      ]
     },
     "execution_count": 9,
     "metadata": {},
     "output_type": "execute_result"
    },
    {
     "data": {
      "image/png": "[encoded data removed]",
      "text/plain": [
       "<Figure size 864x576 with 1 Axes>"
      ]
     },
     "metadata": {},
     "output_type": "display_data"
    }
   ],
   "source": [
    "plt.figure(figsize=(12, 8))\n",
    "plt.plot(df[400:].S_H)"
   ]
  },
  {
   "cell_type": "code",
   "execution_count": 38,
   "metadata": {
    "collapsed": false
   },
   "outputs": [
    {
     "data": {
      "text/plain": [
       "array([ 500.])"
      ]
     },
     "execution_count": 38,
     "metadata": {},
     "output_type": "execute_result"
    }
   ],
   "source": [
    "sdle.A_det"
   ]
  },
  {
   "cell_type": "code",
   "execution_count": null,
   "metadata": {
    "collapsed": true
   },
   "outputs": [],
   "source": []
  }
 ],
 "metadata": {
  "kernelspec": {
   "display_name": "Python 3",
   "language": "python",
   "name": "python3"
  },
  "language_info": {
   "codemirror_mode": {
    "name": "ipython",
    "version": 3
   },
   "file_extension": ".py",
   "mimetype": "text/x-python",
   "name": "python",
   "nbconvert_exporter": "python",
   "pygments_lexer": "ipython3",
   "version": "3.6.0"
  }
 },
 "nbformat": 4,
 "nbformat_minor": 2
}
