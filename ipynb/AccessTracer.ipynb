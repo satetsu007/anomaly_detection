{
 "cells": [
  {
   "cell_type": "code",
   "execution_count": 1,
   "metadata": {},
   "outputs": [],
   "source": [
    "import os\n",
    "import numpy as np\n",
    "import pandas as pd\n",
    "import scipy.stats as st\n",
    "import numpy.random as rd\n",
    "import matplotlib.pyplot as plt\n",
    "import seaborn as sns\n",
    "\n",
    "%matplotlib inline"
   ]
  },
  {
   "cell_type": "markdown",
   "metadata": {},
   "source": [
    "# Access Tracer"
   ]
  },
  {
   "cell_type": "markdown",
   "metadata": {},
   "source": [
    "1. 隠れマルコフモデルの混合分布による行動モデリング\n",
    "2. 複数の混合隠れマルコフモデルのオンライン忘却型学習\n",
    "3. 動的モデル選択による最適混合数の決定\n",
    "4. スコアリング"
   ]
  },
  {
   "cell_type": "markdown",
   "metadata": {},
   "source": [
    "## データ生成"
   ]
  },
  {
   "cell_type": "code",
   "execution_count": 6,
   "metadata": {},
   "outputs": [
    {
     "data": {
      "text/plain": [
       "(500, 5)"
      ]
     },
     "execution_count": 6,
     "metadata": {},
     "output_type": "execute_result"
    }
   ],
   "source": [
    "y = rd.uniform(0, 1, 500*5).reshape(500, 5)\n",
    "y.shape"
   ]
  },
  {
   "cell_type": "markdown",
   "metadata": {},
   "source": [
    "## SDHM"
   ]
  },
  {
   "cell_type": "code",
   "execution_count": 7,
   "metadata": {},
   "outputs": [],
   "source": [
    "# Given\n",
    "r = 0.01 # 忘却パラメータ\n",
    "nu = 0.1 # 推定係数\n",
    "K = 3 # 混合数\n",
    "n = 4 # HMMの次数\n",
    "M = y.shape[0] # データ数"
   ]
  },
  {
   "cell_type": "code",
   "execution_count": 9,
   "metadata": {},
   "outputs": [],
   "source": [
    "# initialize\n",
    "pi = np.zeros((M, K)) \n",
    "gamma = np.zeros((M, K))\n",
    "gamma_1 = np.zeros((M, K))\n",
    "a = np.zeros((M, K))\n",
    "a_1 = np.zeros((M, K))\n",
    "b = np.zeros((M, K))\n",
    "b_1 = np.zeros((M, K))\n",
    "\n",
    "for i in range(K):\n",
    "    pi[0][i]\n",
    "    gamma[0][i]\n",
    "    gamma_1[0][i]\n",
    "    a[0][i]\n",
    "    a_1[0][i]\n",
    "    b[0][i]\n",
    "    b_1[0][i]"
   ]
  },
  {
   "cell_type": "code",
   "execution_count": 13,
   "metadata": {},
   "outputs": [],
   "source": [
    "prob = np.zeros((M, K))\n",
    "prob_k = "
   ]
  },
  {
   "cell_type": "code",
   "execution_count": 14,
   "metadata": {},
   "outputs": [
    {
     "name": "stderr",
     "output_type": "stream",
     "text": [
      "C:\\Users\\kanato\\Anaconda3\\lib\\site-packages\\ipykernel_launcher.py:5: RuntimeWarning: invalid value encountered in double_scalars\n",
      "  \"\"\"\n"
     ]
    }
   ],
   "source": [
    "# update\n",
    "for j in range(M):\n",
    "# E-step\n",
    "    for k in range(K):\n",
    "        c = (1 - nu * r) * ((pi[j][k] * prob[j][k]) / np.dot(pi[j], prob[j])) + (nu*r/K) \n",
    "\n",
    "# Baum-Welch\n",
    "\n",
    "# M-step"
   ]
  },
  {
   "cell_type": "code",
   "execution_count": null,
   "metadata": {},
   "outputs": [],
   "source": []
  }
 ],
 "metadata": {
  "kernelspec": {
   "display_name": "Python 3",
   "language": "python",
   "name": "python3"
  },
  "language_info": {
   "codemirror_mode": {
    "name": "ipython",
    "version": 3
   },
   "file_extension": ".py",
   "mimetype": "text/x-python",
   "name": "python",
   "nbconvert_exporter": "python",
   "pygments_lexer": "ipython3",
   "version": "3.6.4"
  }
 },
 "nbformat": 4,
 "nbformat_minor": 2
}
