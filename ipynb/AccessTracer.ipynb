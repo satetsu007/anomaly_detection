{
 "cells": [
  {
   "cell_type": "code",
   "execution_count": 2,
   "metadata": {
    "collapsed": true
   },
   "outputs": [],
   "source": [
    "import os\n",
    "import numpy as np\n",
    "import pandas as pd\n",
    "import scipy.stats as st\n",
    "import numpy.random as rd\n",
    "import matplotlib.pyplot as plt\n",
    "import seaborn as sns\n",
    "\n",
    "%matplotlib inline"
   ]
  },
  {
   "cell_type": "markdown",
   "metadata": {},
   "source": [
    "# Access Tracer"
   ]
  },
  {
   "cell_type": "markdown",
   "metadata": {},
   "source": [
    "1. 隠れマルコフモデルの混合分布による行動モデリング\n",
    "2. 複数の混合隠れマルコフモデルのオンライン忘却型学習\n",
    "3. 動的モデル選択による最適混合数の決定\n",
    "4. スコアリング"
   ]
  },
  {
   "cell_type": "markdown",
   "metadata": {},
   "source": [
    "## データ生成"
   ]
  },
  {
   "cell_type": "code",
   "execution_count": 3,
   "metadata": {},
   "outputs": [
    {
     "data": {
      "text/plain": [
       "(500, 5)"
      ]
     },
     "execution_count": 3,
     "metadata": {},
     "output_type": "execute_result"
    }
   ],
   "source": [
    "y = rd.uniform(0, 1, 500*5).reshape(500, 5)\n",
    "y.shape"
   ]
  },
  {
   "cell_type": "markdown",
   "metadata": {},
   "source": [
    "## SDHM"
   ]
  },
  {
   "cell_type": "code",
   "execution_count": 4,
   "metadata": {
    "collapsed": true
   },
   "outputs": [],
   "source": [
    "# Given\n",
    "r = 0.01 # 忘却パラメータ 0<r<1\n",
    "nu = 0.1 # 推定係数\n",
    "K = 3 # 混合数\n",
    "n = 4 # HMMの次数\n",
    "M = y.shape[0] # データ数"
   ]
  },
  {
   "cell_type": "code",
   "execution_count": 6,
   "metadata": {},
   "outputs": [],
   "source": [
    "# initialize\n",
    "pi = np.zeros((M, K)) # 混合係数\n",
    "gamma = np.zeros((M, K)) # \n",
    "gamma_1 = np.zeros((M, K)) # \n",
    "a = np.zeros((M, K)) # \n",
    "a_1 = np.zeros((M, K)) # \n",
    "b = np.zeros((M, K)) # \n",
    "b_1 = np.zeros((M, K)) # \n",
    "\n",
    "for i in range(K):\n",
    "    pi[0][i] = 1/K\n",
    "    gamma[0][i]\n",
    "    gamma_1[0][i]\n",
    "    a[0][i]\n",
    "    a_1[0][i]\n",
    "    b[0][i]\n",
    "    b_1[0][i]"
   ]
  },
  {
   "cell_type": "code",
   "execution_count": 7,
   "metadata": {
    "collapsed": true
   },
   "outputs": [],
   "source": [
    "prob = np.zeros((M, K))"
   ]
  },
  {
   "cell_type": "code",
   "execution_count": 8,
   "metadata": {
    "collapsed": true
   },
   "outputs": [],
   "source": [
    "# calc P_k\n",
    "def calc_prob_k(gamma, a, b):\n",
    "    prob = np.sum(gamma)*np.prod(a)*np.prod(b)\n",
    "    return prob\n",
    "\n",
    "# calc P\n",
    "def calc_prob(gamma, a, b, pi):\n",
    "    prob = 0\n",
    "    for i in range(K):\n",
    "        prob += calc_prob_k(gamma[k], a[k], b[k]) * pi[k]\n",
    "    return prob"
   ]
  },
  {
   "cell_type": "code",
   "execution_count": null,
   "metadata": {
    "collapsed": true
   },
   "outputs": [],
   "source": [
    "# Baum-Welch\n",
    "def Baum_Welch(a, b, gamma):\n",
    "    # initialize\n",
    "    alpha = np.zeros(())\n",
    "    beta = \n",
    "    tau = \n",
    "    tau_ = \n",
    "    # calculate\n",
    "    alpha = \n",
    "    beta = \n",
    "    tau = \n",
    "    tau_ = "
   ]
  },
  {
   "cell_type": "code",
   "execution_count": 14,
   "metadata": {},
   "outputs": [
    {
     "name": "stderr",
     "output_type": "stream",
     "text": [
      "C:\\Users\\kanato\\Anaconda3\\lib\\site-packages\\ipykernel_launcher.py:5: RuntimeWarning: invalid value encountered in double_scalars\n",
      "  \"\"\"\n"
     ]
    }
   ],
   "source": [
    "alpha =  \n",
    "beta = \n",
    "tau = \n",
    "tau_ = \n",
    "c = np.zeros((M, K))\n",
    "# update\n",
    "for j in range(M):\n",
    "    # E-step\n",
    "    for k in range(K):\n",
    "        # メンバーシップ確率を更新\n",
    "        c[j, k] = (1 - nu * r) * ((pi[j, k] * prob[j, k]) / np.dot(pi[j], prob[j])) + (nu * r / K) \n",
    "        # Baum-Welch(E-step)\n",
    "        alpha = \n",
    "        beta = \n",
    "        tau = \n",
    "        tau_ = \n",
    "    # M-step    \n",
    "    for k in range(K):\n",
    "        for y in Y:\n",
    "            for s, s_ in zip(S, S_n1):\n",
    "\n",
    "            pi[j+1, k] = (1 - r) * pi[j, k] + r * c[j, k]\n",
    "\n",
    "            gamma_1[j+1, k] = (1 - r) * gamma_1[j, k] + r * c[j, k] * np.sum(tau)\n",
    "            gamma[j+1, k] = \n",
    "\n",
    "            a_1[j+1, k]\n",
    "            a[j+1, k]\n",
    "\n",
    "            b_1[j+1, k]\n",
    "            b[j+1, k]"
   ]
  },
  {
   "cell_type": "code",
   "execution_count": null,
   "metadata": {
    "collapsed": true
   },
   "outputs": [],
   "source": []
  }
 ],
 "metadata": {
  "kernelspec": {
   "display_name": "Python 3",
   "language": "python",
   "name": "python3"
  },
  "language_info": {
   "codemirror_mode": {
    "name": "ipython",
    "version": 3
   },
   "file_extension": ".py",
   "mimetype": "text/x-python",
   "name": "python",
   "nbconvert_exporter": "python",
   "pygments_lexer": "ipython3",
   "version": "3.6.1"
  }
 },
 "nbformat": 4,
 "nbformat_minor": 2
}
