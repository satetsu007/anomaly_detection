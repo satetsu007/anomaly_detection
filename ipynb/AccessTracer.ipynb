{
 "cells": [
  {
   "cell_type": "code",
   "execution_count": 1,
   "metadata": {},
   "outputs": [],
   "source": [
    "import os\n",
    "import numpy as np\n",
    "import pandas as pd\n",
    "import scipy.stats as st\n",
    "import numpy.random as rd\n",
    "import matplotlib.pyplot as plt\n",
    "from IPython.display import display\n",
    "plt.style.use(\"ggplot\")\n",
    "\n",
    "%matplotlib inline"
   ]
  },
  {
   "cell_type": "markdown",
   "metadata": {},
   "source": [
    "# Access Tracer"
   ]
  },
  {
   "cell_type": "markdown",
   "metadata": {},
   "source": [
    "1. 隠れマルコフモデルの混合分布による行動モデリング\n",
    "2. 複数の混合隠れマルコフモデルのオンライン忘却型学習\n",
    "3. 動的モデル選択による最適混合数の決定\n",
    "4. スコアリング"
   ]
  },
  {
   "cell_type": "markdown",
   "metadata": {},
   "source": [
    "## データ生成"
   ]
  },
  {
   "cell_type": "code",
   "execution_count": 2,
   "metadata": {
    "scrolled": true
   },
   "outputs": [
    {
     "data": {
      "image/png": "[encoded data removed]",
      "text/plain": [
       "<matplotlib.figure.Figure at 0x11b586940>"
      ]
     },
     "metadata": {},
     "output_type": "display_data"
    },
    {
     "data": {
      "image/png": "[encoded data removed]",
      "text/plain": [
       "<matplotlib.figure.Figure at 0x112c3ad68>"
      ]
     },
     "metadata": {},
     "output_type": "display_data"
    }
   ],
   "source": [
    "rd.seed(0)\n",
    "\n",
    "dice1 = [1, 2, 3, 4, 5 ,6]\n",
    "dice2 = [1, 2, 3]\n",
    "dice3 = [4, 5, 6]\n",
    "\n",
    "y1 = rd.choice(dice2, 100)\n",
    "flag1 = np.array([2 for i in range(100)])\n",
    "y2 = rd.choice(dice1, 300)\n",
    "flag2 = np.array([1 for i in range(300)])\n",
    "y3 = rd.choice(dice3, 100)\n",
    "flag3 = np.array([3 for i in range(100)])\n",
    "\n",
    "y = np.concatenate([y1, y2, y3])\n",
    "flag = np.concatenate([flag1, flag2, flag3])\n",
    "data = np.concatenate([y[:, np.newaxis], flag[:, np.newaxis]], axis=1)\n",
    "org_data = pd.DataFrame(data)\n",
    "\n",
    "plt.figure(figsize=(16, 9))\n",
    "plt.hist(org_data[0])\n",
    "plt.show()\n",
    "\n",
    "plt.figure(figsize=(16, 9))\n",
    "plt.plot(org_data.loc[org_data[1]==2][0], \"o\", c=\"r\")\n",
    "plt.plot(org_data.loc[org_data[1]==1][0], \"o\", c=\"b\")\n",
    "plt.plot(org_data.loc[org_data[1]==3][0], \"o\", c=\"g\")\n",
    "plt.show()"
   ]
  },
  {
   "cell_type": "code",
   "execution_count": 4,
   "metadata": {},
   "outputs": [
    {
     "data": {
      "text/plain": [
       "array([2, 1, 2, 2, 3])"
      ]
     },
     "execution_count": 4,
     "metadata": {},
     "output_type": "execute_result"
    }
   ],
   "source": [
    "window_size = 5\n",
    "y = np.array([np.array(org_data[0][i:i+window_size]) for i in range(org_data.shape[0]-window_size+1)])"
   ]
  },
  {
   "cell_type": "markdown",
   "metadata": {},
   "source": [
    "## SDHM"
   ]
  },
  {
   "cell_type": "code",
   "execution_count": 22,
   "metadata": {},
   "outputs": [],
   "source": [
    "# Given\n",
    "r = 0.01 # 忘却パラメータ 0<r<1\n",
    "nu = 0.1 # 推定係数\n",
    "K = 3 # 混合数\n",
    "n = 2 # HMMの次数\n",
    "M = y.shape[0] # データ数\n",
    "Tj = y.shape[1] # セッションの長さ"
   ]
  },
  {
   "cell_type": "code",
   "execution_count": 56,
   "metadata": {
    "collapsed": true
   },
   "outputs": [],
   "source": [
    "# initialize\n",
    "pi = np.zeros((M, K)) # 混合係数\n",
    "gamma = np.zeros((M, K, Tj)) # \n",
    "gamma_1 = np.zeros((M, K, Tj)) # \n",
    "a = np.zeros((M, K, Tj)) # \n",
    "a_1 = np.zeros((M, K, Tj)) # \n",
    "b = np.zeros((M, K, Tj)) # \n",
    "b_1 = np.zeros((M, K, Tj)) # \n",
    "\n",
    "for i in range(K):\n",
    "    pi[0][i] = 1/K\n",
    "    gamma[0][i] = 1/K\n",
    "    gamma_1[0][i] = 1/K\n",
    "    a[0][i] = 1/K\n",
    "    a_1[0][i] = 1/K\n",
    "    b[0][i] = 1/K\n",
    "    b_1[0][i] = 1/K"
   ]
  },
  {
   "cell_type": "code",
   "execution_count": 7,
   "metadata": {
    "collapsed": true
   },
   "outputs": [],
   "source": [
    "prob = np.zeros((M, K)) "
   ]
  },
  {
   "cell_type": "code",
   "execution_count": 57,
   "metadata": {
    "collapsed": true
   },
   "outputs": [],
   "source": [
    "# calc P_k\n",
    "def calc_prob_k(gamma, a, b):\n",
    "    prob = np.sum(gamma)*np.prod(a)*np.prod(b)\n",
    "    return prob\n",
    "\n",
    "# calc P\n",
    "def calc_prob(gamma, a, b, pi):\n",
    "    prob = 0\n",
    "    for i in range(K):\n",
    "        prob += calc_prob_k(gamma[k], a[k], b[k]) * pi[k]\n",
    "    return prob"
   ]
  },
  {
   "cell_type": "code",
   "execution_count": null,
   "metadata": {
    "collapsed": true
   },
   "outputs": [],
   "source": [
    "# Baum-Welch(E-step)\n",
    "def Baum_Welch(gamma, a, b):\n",
    "    # calculate\n",
    "    # forward\n",
    "    gamma[i]* b[]\n",
    "    # backward\n",
    "    \n",
    "    return alpha, beta, tau, tau_"
   ]
  },
  {
   "cell_type": "code",
   "execution_count": null,
   "metadata": {
    "collapsed": true
   },
   "outputs": [],
   "source": []
  },
  {
   "cell_type": "code",
   "execution_count": 14,
   "metadata": {},
   "outputs": [
    {
     "name": "stderr",
     "output_type": "stream",
     "text": [
      "C:\\Users\\kanato\\Anaconda3\\lib\\site-packages\\ipykernel_launcher.py:5: RuntimeWarning: invalid value encountered in double_scalars\n",
      "  \"\"\"\n"
     ]
    }
   ],
   "source": [
    "c = np.zeros((M, K))\n",
    "# update\n",
    "for j in range(M):\n",
    "    # E-step\n",
    "    for k in range(K):\n",
    "        # メンバーシップ確率を更新\n",
    "        c[j, k] = (1 - nu * r) * ((pi[j, k] * calc_prob_k(gamma, a, b)) / calc_prob(gamma, a, b, pi)) + (nu * r / K) \n",
    "        _, _, tau, tau_ = Baum_Welch(gamma, a, b)\n",
    "    # M-step    \n",
    "    for k in range(K):\n",
    "        for y in Y:\n",
    "            for s, s_ in zip(S, S_n1):\n",
    "                pi[j+1, k] = (1 - r) * pi[j, k] + r * c[j, k]\n",
    "\n",
    "                gamma_1[j+1, k] = (1 - r) * gamma_1[j, k] + r * c[j, k] * np.sum(tau[k, 1]) # s_n+1について\n",
    "                gamma[j+1, k] = gamma_1[j+1, k] / np.sum(gamma_1[j+1, k]) # (s_1, ..., s_n)について\n",
    "\n",
    "                a_1[j+1, k] = (1 - r) * a_1[j, k] + r * c[j, k] * np.sum(tau[k, t]) # for t in range(1, T_j-1)\n",
    "                a[j+1, k] = a_1[j+1, k] / np.sum(a_1[j+1, k]) # s_n+1\n",
    "\n",
    "                b_1[j+1, k] = (1 - r) * b_1[j, k] + r * c[j, k] * np.sum(tau_[k, t]) # for t in range(1, T_j) and y = y_tについて\n",
    "                b[j+1, k] = b_1[j+1, k] / np.sum(b_1[j+1, k]) # yについて"
   ]
  },
  {
   "cell_type": "code",
   "execution_count": 80,
   "metadata": {},
   "outputs": [
    {
     "data": {
      "text/plain": [
       "array([ 0.28351885,  0.37992696,  0.18115096,  0.78854551,  0.05684808,\n",
       "        0.69699724,  0.7786954 ,  0.77740756,  0.25942256,  0.37381314])"
      ]
     },
     "execution_count": 80,
     "metadata": {},
     "output_type": "execute_result"
    }
   ],
   "source": []
  },
  {
   "cell_type": "code",
   "execution_count": null,
   "metadata": {
    "collapsed": true
   },
   "outputs": [],
   "source": []
  }
 ],
 "metadata": {
  "kernelspec": {
   "display_name": "Python [default]",
   "language": "python",
   "name": "python3"
  },
  "language_info": {
   "codemirror_mode": {
    "name": "ipython",
    "version": 3
   },
   "file_extension": ".py",
   "mimetype": "text/x-python",
   "name": "python",
   "nbconvert_exporter": "python",
   "pygments_lexer": "ipython3",
   "version": "3.6.5"
  }
 },
 "nbformat": 4,
 "nbformat_minor": 2
}
