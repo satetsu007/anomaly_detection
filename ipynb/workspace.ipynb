{
 "cells": [
  {
   "cell_type": "code",
   "execution_count": 1,
   "metadata": {
    "collapsed": true
   },
   "outputs": [],
   "source": [
    "import numpy as np"
   ]
  },
  {
   "cell_type": "code",
   "execution_count": 2,
   "metadata": {
    "collapsed": true
   },
   "outputs": [],
   "source": [
    "A = np.array([0.1, 0.3])\n",
    "a = np.array([0.14, 0.34])\n",
    "B = np.identity(2)\n",
    "b = np.identity(2) * 0.9"
   ]
  },
  {
   "cell_type": "code",
   "execution_count": 3,
   "metadata": {
    "collapsed": true
   },
   "outputs": [],
   "source": [
    "def d_h_Gauss(mu, sigma, mu_prev, sigma_prev):\n",
    "    '''\n",
    "    t時点とt-1時点におけるガウス分布間のヘリンジャー距離\n",
    "    '''\n",
    "    mu = mu[:, np.newaxis]\n",
    "    mu_prev = mu_prev[:, np.newaxis]\n",
    "    #第2項\n",
    "    m = 2 * np.linalg.det((np.linalg.inv(sigma) + np.linalg.inv(sigma_prev)) / 2) ** (-1/2) #分子\n",
    "    d = (np.linalg.det(sigma) ** (1/4)) * (np.linalg.det(sigma_prev) ** (1/4)) #分母\n",
    "    A = m / d\n",
    "    \n",
    "    #第3項 1番目exp\n",
    "    B_0 = (np.dot(np.linalg.inv(sigma), mu) + np.dot(np.linalg.inv(sigma_prev), mu_prev)).T #要素1\n",
    "    B_1 = np.linalg.inv(np.linalg.inv(sigma) + np.linalg.inv(sigma_prev)) #要素2\n",
    "    B_2 = np.dot(np.linalg.inv(sigma), mu) + np.dot(np.linalg.inv(sigma_prev), mu_prev) #要素3\n",
    "    B = np.exp((1/2) * np.dot(np.dot(B_0, B_1), B_2))\n",
    "    \n",
    "    #第3項 2番目exp\n",
    "    C_0 = np.dot(np.dot(mu.T, np.linalg.inv(sigma)), mu) + np.dot(np.dot(mu_prev.T, np.linalg.inv(sigma_prev)), mu_prev) #要素\n",
    "    C = np.exp(-(1/2) * C_0)\n",
    "    \n",
    "    #ヘリンジャー距離の計算\n",
    "    d_h = 2 - A * B * C\n",
    "    \n",
    "    return d_h"
   ]
  },
  {
   "cell_type": "code",
   "execution_count": 4,
   "metadata": {
    "collapsed": false
   },
   "outputs": [
    {
     "data": {
      "text/plain": [
       "array([[ 0.00445317]])"
      ]
     },
     "execution_count": 4,
     "metadata": {},
     "output_type": "execute_result"
    }
   ],
   "source": [
    "d_h_Gauss(A, B, a, b)"
   ]
  },
  {
   "cell_type": "code",
   "execution_count": null,
   "metadata": {
    "collapsed": true
   },
   "outputs": [],
   "source": []
  }
 ],
 "metadata": {
  "kernelspec": {
   "display_name": "Python 3",
   "language": "python",
   "name": "python3"
  },
  "language_info": {
   "codemirror_mode": {
    "name": "ipython",
    "version": 3
   },
   "file_extension": ".py",
   "mimetype": "text/x-python",
   "name": "python",
   "nbconvert_exporter": "python",
   "pygments_lexer": "ipython3",
   "version": "3.6.0"
  }
 },
 "nbformat": 4,
 "nbformat_minor": 2
}
