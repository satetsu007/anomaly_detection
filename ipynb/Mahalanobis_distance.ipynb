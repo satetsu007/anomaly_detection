{
 "cells": [
  {
   "cell_type": "code",
   "execution_count": 1,
   "metadata": {
    "collapsed": true
   },
   "outputs": [],
   "source": [
    "import numpy as np\n",
    "import matplotlib.pyplot as plt\n",
    "import pandas as pd\n",
    "import seaborn as sns"
   ]
  },
  {
   "cell_type": "code",
   "execution_count": 6,
   "metadata": {
    "collapsed": true
   },
   "outputs": [],
   "source": [
    "X = np.random.normal(size = 100)\n",
    "theta = 0.1"
   ]
  },
  {
   "cell_type": "code",
   "execution_count": 5,
   "metadata": {
    "collapsed": false
   },
   "outputs": [
    {
     "data": {
      "text/plain": [
       "array([ 0.26278119, -1.45017982, -0.26931746, -0.07527502, -0.22818403,\n",
       "       -0.10520809, -1.63175224, -2.30931759,  1.90187426,  2.29040174,\n",
       "        0.33280308,  0.11019559,  0.11155295,  0.50848748, -0.30901637,\n",
       "       -0.28492013, -0.29489705,  1.0604693 , -1.27585894,  1.99332867,\n",
       "       -0.63828117, -1.32789607,  0.91213376,  0.18810539, -2.0073041 ,\n",
       "       -0.06201512, -1.13748141,  0.25707696,  0.13442258, -0.22093216,\n",
       "       -1.01657784,  0.83112615, -0.61719979,  1.73011256,  1.49994903,\n",
       "        2.42000392, -0.65858112,  0.03265466,  0.04985237,  1.47034716,\n",
       "        1.34973806,  0.77016135,  0.21984897, -0.6251157 ,  0.32128341,\n",
       "        0.76050947, -0.73271054, -0.11688933, -0.91359078, -1.5855806 ,\n",
       "        0.04125454,  1.92997521, -0.3865074 ,  0.08510607, -0.86724932,\n",
       "       -0.74659864, -0.69404914,  1.1134444 ,  1.04105073,  0.76079997,\n",
       "        1.40978118,  0.99058899,  0.95564139, -0.57014684, -1.87478579,\n",
       "        0.97753498, -1.25712167,  0.24700572, -0.72235873,  1.08510955,\n",
       "       -0.88244811,  0.8059847 , -0.37302645, -0.98548188,  0.80064431,\n",
       "       -1.65842606, -0.4927775 ,  2.27569929, -1.02525745,  1.79500377,\n",
       "        0.00945839, -0.13850869,  0.50522207, -0.45959467,  0.98478015,\n",
       "        0.68092325, -0.39108482,  0.31636316, -0.9904023 , -1.81809797,\n",
       "       -0.28030361, -1.01347552, -0.20429848, -0.56611753, -0.7043512 ,\n",
       "        1.23375393, -1.62964626, -1.37713056, -1.1154106 ,  0.10769125])"
      ]
     },
     "execution_count": 5,
     "metadata": {},
     "output_type": "execute_result"
    }
   ],
   "source": [
    "def Mahalanobis_distance(x, mu, sigma, theta):\n",
    "    ((x - mu)sigma^-1*(x - mu))^(1/2)"
   ]
  },
  {
   "cell_type": "code",
   "execution_count": null,
   "metadata": {
    "collapsed": true
   },
   "outputs": [],
   "source": []
  }
 ],
 "metadata": {
  "kernelspec": {
   "display_name": "Python 3",
   "language": "python",
   "name": "python3"
  },
  "language_info": {
   "codemirror_mode": {
    "name": "ipython",
    "version": 3
   },
   "file_extension": ".py",
   "mimetype": "text/x-python",
   "name": "python",
   "nbconvert_exporter": "python",
   "pygments_lexer": "ipython3",
   "version": "3.6.0"
  }
 },
 "nbformat": 4,
 "nbformat_minor": 2
}
