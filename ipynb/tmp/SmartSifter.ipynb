{
 "cells": [
  {
   "cell_type": "markdown",
   "metadata": {},
   "source": [
    "# SmartSifter"
   ]
  },
  {
   "cell_type": "code",
   "execution_count": 1,
   "metadata": {},
   "outputs": [],
   "source": [
    "import os\n",
    "import numpy as np\n",
    "import pandas as pd\n",
    "import matplotlib.pyplot as plt\n",
    "import numpy.random as rd\n",
    "import itertools\n",
    "from mpl_toolkits.mplot3d import Axes3D\n",
    "from scipy import stats as st\n",
    "\n",
    "import matplotlib\n",
    "from matplotlib import font_manager\n",
    "import matplotlib.pyplot as plt\n",
    "import matplotlib.cm as cm\n",
    "from matplotlib import rc\n",
    "import matplotlib.animation as ani\n",
    "from IPython.display import display\n",
    "plt.rcParams[\"patch.force_edgecolor\"] = True\n",
    "#rc('text', usetex=True)\n",
    "import seaborn as sns\n",
    "sns.set(style=\"whitegrid\", palette=\"muted\", color_codes=True)\n",
    "sns.set_style(\"whitegrid\", {'grid.linestyle': '--'})\n",
    "red = sns.xkcd_rgb[\"light red\"]\n",
    "green = sns.xkcd_rgb[\"medium green\"]\n",
    "blue = sns.xkcd_rgb[\"denim blue\"]\n",
    "%matplotlib inline"
   ]
  },
  {
   "cell_type": "markdown",
   "metadata": {},
   "source": [
    "## SDLEアルゴリズム"
   ]
  },
  {
   "cell_type": "code",
   "execution_count": 2,
   "metadata": {},
   "outputs": [],
   "source": [
    "#データ生成(離散値ベクトル)\n",
    "rd.seed(0)\n",
    "T = 500 #データ数(観測数)\n",
    "x_1 = np.array([np.argmax(i) for i in rd.multinomial(1, [1/6]*6,T)])\n",
    "x_2 = rd.binomial(1, 0.5, T)\n",
    "x = np.c_[x_1, x_2]"
   ]
  },
  {
   "cell_type": "code",
   "execution_count": 3,
   "metadata": {},
   "outputs": [
    {
     "data": {
      "image/png": "[encoded data removed]",
      "text/plain": [
       "<Figure size 432x288 with 1 Axes>"
      ]
     },
     "metadata": {},
     "output_type": "display_data"
    }
   ],
   "source": [
    "plt.hist(x_1, rwidth=0.9)\n",
    "plt.show()"
   ]
  },
  {
   "cell_type": "code",
   "execution_count": 4,
   "metadata": {},
   "outputs": [],
   "source": [
    "class SDLE:\n",
    "    def __init__(self, r, beta, A):\n",
    "        \"\"\"\n",
    "        \"\"\"\n",
    "        #Given\n",
    "        self.A = A #セルの分割全体\n",
    "        self.r = r #忘却係数 \n",
    "        self.beta = beta #正の定数\n",
    "        \n",
    "        \n",
    "        #パラメータの初期化\n",
    "        self.M = len(A) #セルの数\n",
    "        self.A_det = np.zeros(self.M) #各セルに含まれた観測データ数格納用\n",
    "        self.t = 1\n",
    "        self.T_t = np.zeros(self.M) #各セルの統計量の計数\n",
    "        self.prob = np.zeros(self.M)\n",
    "        self.flag = None #更新の行われたセル番号を格納\n",
    "    \n",
    "    def update(self, x_t):\n",
    "        \"\"\"\n",
    "        オンライン学習\n",
    "        \"\"\"\n",
    "        if isinstance(x_t, np.int64):\n",
    "            x_t = np.array([x_t]) #1次元ベクトルを対応させる\n",
    "        \n",
    "        #T_t, probに1行追加\n",
    "        new_index = np.zeros(self.M)\n",
    "        if self.t == 1:\n",
    "            self.T_t = np.concatenate([self.T_t[:,np.newaxis].T, new_index[:,np.newaxis].T])\n",
    "            self.prob = np.concatenate([self.prob[:,np.newaxis].T, new_index[:,np.newaxis].T])\n",
    "        \n",
    "        else:\n",
    "            self.T_t = np.concatenate([self.T_t, new_index[:,np.newaxis].T])\n",
    "            self.prob = np.concatenate([self.prob, new_index[:,np.newaxis].T])\n",
    "        \n",
    "        for i, A_m in enumerate(self.A):\n",
    "            delta = 0\n",
    "            if np.array_equal(x_t, np.array(A_m)):\n",
    "                delta = 1\n",
    "                self.A_det[i] += 1\n",
    "                self.flag = x_t\n",
    "            \n",
    "            self.T_t[self.t, i] = (1-self.r) * self.T_t[self.t-1,i] + delta\n",
    "            if self.r == 0:\n",
    "                q = (self.T_t[self.t, i] + self.beta) / (self.t + self.M * self.beta)\n",
    "            else:\n",
    "                q = (self.T_t[self.t, i]+self.beta) / ((1 - (1-self.r)**self.t)/self.r + self.M*self.beta)\n",
    "            \n",
    "            if not self.A_det[i] == 0:\n",
    "                self.prob[self.t, i] = q / self.A_det[i]\n",
    "        \n",
    "        self.t += 1\n",
    "    \n",
    "    def train(self, x):\n",
    "        \"\"\"\n",
    "        バッチ学習\n",
    "        \"\"\"\n",
    "        T = len(x) #データ数(観測数)\n",
    "        while self.t <= T:\n",
    "            self.update(x[self.t-1])"
   ]
  },
  {
   "cell_type": "code",
   "execution_count": 5,
   "metadata": {},
   "outputs": [],
   "source": [
    "# A = list(itertools.product(set(x_1), set(x_2)))\n",
    "x = x_1.copy()\n",
    "A = list(itertools.product(set(x)))\n",
    "r = 1 / len(x) #忘却パラメータ\n",
    "beta = 1 #正の定数\n",
    "\n",
    "sdle = SDLE(r, beta, A)"
   ]
  },
  {
   "cell_type": "code",
   "execution_count": 6,
   "metadata": {},
   "outputs": [
    {
     "data": {
      "text/plain": [
       "array([[ 0.        ,  0.        ,  0.        ,  0.        ,  0.        ,\n",
       "         0.        ],\n",
       "       [ 0.        ,  0.        ,  0.        ,  0.        ,  0.        ,\n",
       "         0.28571429],\n",
       "       [ 0.        ,  0.        ,  0.25006252,  0.        ,  0.        ,\n",
       "         0.24981245],\n",
       "       ..., \n",
       "       [ 0.00208236,  0.00201122,  0.00212768,  0.00191246,  0.00196691,\n",
       "         0.00195242],\n",
       "       [ 0.00207588,  0.00200497,  0.00212108,  0.00190652,  0.00197428,\n",
       "         0.00194636],\n",
       "       [ 0.00208031,  0.00199874,  0.00211451,  0.0019006 ,  0.00196815,\n",
       "         0.00194034]])"
      ]
     },
     "execution_count": 6,
     "metadata": {},
     "output_type": "execute_result"
    }
   ],
   "source": [
    "sdle.train(x)\n",
    "sdle.prob"
   ]
  },
  {
   "cell_type": "code",
   "execution_count": 7,
   "metadata": {},
   "outputs": [
    {
     "data": {
      "text/plain": [
       "array([ 0.17332087,  0.16652454,  0.17617046,  0.15834872,  0.16397636,\n",
       "        0.16165904])"
      ]
     },
     "execution_count": 7,
     "metadata": {},
     "output_type": "execute_result"
    }
   ],
   "source": [
    "p = sdle.prob[-1] * (1/sdle.prob[-1].sum())\n",
    "p"
   ]
  },
  {
   "cell_type": "code",
   "execution_count": 8,
   "metadata": {},
   "outputs": [
    {
     "data": {
      "image/png": "[encoded data removed]",
      "text/plain": [
       "<Figure size 432x288 with 1 Axes>"
      ]
     },
     "metadata": {},
     "output_type": "display_data"
    }
   ],
   "source": [
    "plt.bar(range(len(A)), p)\n",
    "plt.show()"
   ]
  },
  {
   "cell_type": "markdown",
   "metadata": {},
   "source": [
    "## SDEMアルゴリズム"
   ]
  },
  {
   "cell_type": "code",
   "execution_count": 9,
   "metadata": {},
   "outputs": [
    {
     "name": "stdout",
     "output_type": "stream",
     "text": [
      "check:  0 [ 0.2  0.5] [[ 0.1    0.085]\n",
      " [ 0.085  0.1  ]] 0.002775\n",
      "check:  1 [ 1.2  0.5] [[ 0.1   -0.085]\n",
      " [-0.085  0.1  ]] 0.002775\n",
      "check:  2 [ 2.   0.5] [[ 0.1    0.085]\n",
      " [ 0.085  0.1  ]] 0.002775\n"
     ]
    },
    {
     "data": {
      "image/png": "[encoded data removed]",
      "text/plain": [
       "<Figure size 864x360 with 1 Axes>"
      ]
     },
     "metadata": {},
     "output_type": "display_data"
    }
   ],
   "source": [
    "seed = 77\n",
    "D = 2\n",
    "n = [200, 150, 150]\n",
    "N = np.sum(n)\n",
    "mu_true = np.asanyarray(\n",
    "     [[0.2, 0.5],\n",
    "      [1.2, 0.5],\n",
    "      [2.0, 0.5]])\n",
    "\n",
    "D = mu_true.shape[1]\n",
    "\n",
    "sigma_true = np.asanyarray(\n",
    "        [ [[0.1,  0.085],[ 0.085, 0.1]],\n",
    "          [[0.1, -0.085],[-0.085, 0.1]],\n",
    "          [[0.1,  0.085],[ 0.085, 0.1]]\n",
    "        ])\n",
    "c = ['r', 'g', 'b']\n",
    "\n",
    "rd.seed(seed)\n",
    "org_data = None #np.empty((np.sum(n), 3))\n",
    "for i in range(3):\n",
    "    print(\"check: \", i, mu_true[i], sigma_true[i], np.linalg.det(sigma_true[i]))\n",
    "    #org_data.append(st.multivariate_normal.rvs(mean=mu[i], cov=sigma[i], size=n[i]))\n",
    "    if org_data is None:\n",
    "        org_data = np.c_[st.multivariate_normal.rvs(mean=mu_true[i], cov=sigma_true[i], size=n[i]), np.ones(n[i])*i]\n",
    "    else:\n",
    "        org_data = np.r_[org_data, np.c_[st.multivariate_normal.rvs(mean=mu_true[i], \n",
    "                                                                    cov=sigma_true[i], \n",
    "                                                                    size=n[i]), np.ones(n[i])*i]]\n",
    "        \n",
    "# plot generated data        \n",
    "plt.figure(figsize=(12, 5))\n",
    "for i in range(3):\n",
    "    plt.scatter(org_data[org_data[:,2]==i][:,0], org_data[org_data[:,2]==i][:,1], s=30, c=c[i], alpha=0.5)\n",
    "    \n",
    "# drop true cluster label\n",
    "data = org_data[:,0:2].copy()"
   ]
  },
  {
   "cell_type": "code",
   "execution_count": 10,
   "metadata": {},
   "outputs": [],
   "source": [
    "class SDEM:\n",
    "    def __init__(self, r, alpha, k, d):\n",
    "        \"\"\"\n",
    "        パラメータの初期化\n",
    "        \"\"\"\n",
    "        self.r = r\n",
    "        self.alpha = alpha\n",
    "        self.k = k\n",
    "        self.d = d\n",
    "        \n",
    "        self.prob = np.zeros((1, self.k))\n",
    "        self.mu = np.zeros((1, self.k, self.d))\n",
    "        self.mu_ = np.zeros((1, self.k, self.d))\n",
    "        self.pi = np.zeros((1, self.k))\n",
    "        self.sigma = np.zeros((1, self.k, self.d, self.d))\n",
    "        self.sigma_ = np.zeros((1, self.k, self.d, self.d))\n",
    "        \n",
    "        for i in range(self.k):\n",
    "            self.pi[0, i] = 1 / self.k #piの初期化\n",
    "            self.mu[0, i] = rd.uniform(low=0, high=1, size=self.d) #muの初期化(一様分布)\n",
    "            self.mu_[0, i] = self.mu[0, i] * self.pi[0, i] #mu_の初期化(mu*piで計算)\n",
    "            self.sigma[0, i] = np.identity(self.d) #sigmaの初期化(単位行列)\n",
    "            self.sigma_[0, i] = (self.sigma[0, i] + np.dot(self.mu[0, i][:,np.newaxis], self.mu[0, i][:,np.newaxis].T)) * self.pi[0, i] #sigma_初期化\n",
    "\n",
    "        self.t = 1\n",
    "    \n",
    "    def calc_prob(self, y_t, pi, mu, sigma):\n",
    "        \"\"\"\n",
    "        t時点のパラメータを使用し確率値の計算\n",
    "        \"\"\"\n",
    "        p = np.zeros(self.k)\n",
    "        for i in range(self.k):\n",
    "            p[i] = st.multivariate_normal.pdf(y_t, mu[i], sigma[i])\n",
    "        return p\n",
    "        \n",
    "    #E-Step\n",
    "    def E_step(self, y_t, t):\n",
    "        \"\"\"Eステップ(負担率gammaから各パラメータ_とpiを求める)\"\"\"\n",
    "\n",
    "        #pi*p(y|mu,sigma)を計算する\n",
    "        pi_prob = np.array([self.pi[t-1, i]*st.multivariate_normal.pdf(y_t, self.mu[t-1,i], self.sigma[t-1, i]) for i in range(self.k)])\n",
    "        gamma = (1 - self.alpha * self.r) * pi_prob / np.sum(pi_prob) + (self.alpha * self.r / self.k)\n",
    "        #piを計算する\n",
    "        self.pi[t] = (1 - self.r) * self.pi[self.t-1] + self.r * gamma\n",
    "        #mu_を計算する\n",
    "        self.mu_[t] = (1 - self.r)*self.mu_[t-1] + self.r * gamma[:, np.newaxis] * y_t\n",
    "        #sigma_を計算する\n",
    "        for i in range(k):\n",
    "            self.sigma_[t, i] = (1 - self.r) * self.sigma_[t-1, i] + self.r * gamma[i] * np.dot(y_t[:, np.newaxis], y_t[:, np.newaxis].T)\n",
    "\n",
    "    #M-Step\n",
    "    def M_step(self, y_t, t):\n",
    "        \"\"\"Mステップ(gammaを使って、各パラメータを更新する)\"\"\"\n",
    "        #muを計算する\n",
    "        self.mu[t] = self.mu_[t] / self.pi[t][:, np.newaxis]\n",
    "        #sigmaを計算する\n",
    "        for i in range(self.k):\n",
    "            self.sigma[t, i] = self.sigma_[t, i] / self.pi[t, i] - np.dot(self.mu[t, i][:, np.newaxis], self.mu[t, i][:, np.newaxis].T)\n",
    "    \n",
    "    def update(self, y_t):\n",
    "        \"\"\"\n",
    "        \"\"\"\n",
    "        #pi, mu, mu_, sigma, sigma_, probに1行追加\n",
    "        prob_tmp = np.zeros((1, self.k))\n",
    "        pi_tmp = np.zeros((1, self.k))\n",
    "        mu_tmp = np.zeros((1, self.k, self.d))\n",
    "        sigma_tmp = np.zeros((1, self.k, self.d, self.d))\n",
    "\n",
    "        self.prob = np.concatenate([self.prob, prob_tmp])\n",
    "        self.pi = np.concatenate([self.pi, pi_tmp])\n",
    "        self.mu = np.concatenate([self.mu, mu_tmp])\n",
    "        self.mu_ = np.concatenate([self.mu_, mu_tmp])\n",
    "        self.sigma = np.concatenate([self.sigma, sigma_tmp])\n",
    "        self.sigma_ = np.concatenate([self.sigma_, sigma_tmp])\n",
    "        #E-step\n",
    "        self.E_step(y_t, self.t)\n",
    "        #M-Step\n",
    "        self.M_step(y_t, self.t)\n",
    "        \n",
    "        self.prob[self.t] = self.calc_prob(y_t, self.pi[self.t], self.mu[self.t], self.sigma[self.t])\n",
    "            \n",
    "        self.t += 1\n",
    "    \n",
    "    def skip(self):\n",
    "        \"\"\"\"\"\"\n",
    "        #pi, mu, mu_, sigma, sigma_, probに1行追加\n",
    "        prob_tmp = np.zeros((1, self.k))\n",
    "        pi_tmp = np.zeros((1, self.k))\n",
    "        mu_tmp = np.zeros((1, self.k, self.d))\n",
    "        sigma_tmp = np.zeros((1, self.k, self.d, self.d))\n",
    "\n",
    "        if self.t == 1:\n",
    "            self.prob = np.concatenate([self.prob, prob_tmp])\n",
    "            self.pi = np.concatenate([self.pi, pi_tmp])\n",
    "            self.mu = np.concatenate([self.mu, mu_tmp])\n",
    "            self.mu_ = np.concatenate([self.mu_, mu_tmp])\n",
    "            self.sigma = np.concatenate([self.sigma, sigma_tmp])\n",
    "            self.sigma_ = np.concatenate([self.sigma_, sigma_tmp])\n",
    "        else:\n",
    "            self.prob = np.concatenate([self.prob, prob_tmp])\n",
    "            self.pi = np.concatenate([self.pi, pi_tmp])\n",
    "            self.mu = np.concatenate([self.mu, mu_tmp])\n",
    "            self.mu_ = np.concatenate([self.mu_, mu_tmp])\n",
    "            self.sigma = np.concatenate([self.sigma, sigma_tmp])\n",
    "            self.sigma_ = np.concatenate([self.sigma_, sigma_tmp])\n",
    "        # 更新をしない\n",
    "        for i in range(self.k):\n",
    "            self.pi[self.t, i] = self.pi[self.t-1, i]\n",
    "            self.mu[self.t, i] = self.mu[self.t-1, i]\n",
    "            self.mu_[self.t, i] = self.mu_[self.t-1, i]\n",
    "            self.sigma[self.t, i] = self.sigma[self.t-1, i]\n",
    "            self.sigma_[self.t, i] = self.sigma_[self.t-1, i]\n",
    "            self.prob[self.t] = self.prob[self.t-i, i]\n",
    "        self.t += 1\n",
    "    \n",
    "    def train(self, y):\n",
    "        \"\"\"\n",
    "        バッチ学習\n",
    "        \"\"\"\n",
    "        T = len(y) #データ数(観測数)\n",
    "        while self.t < T:\n",
    "            self.update(y[self.t-1])"
   ]
  },
  {
   "cell_type": "code",
   "execution_count": 11,
   "metadata": {},
   "outputs": [
    {
     "data": {
      "text/plain": [
       "array([[ 0.,  0.,  0.]])"
      ]
     },
     "execution_count": 11,
     "metadata": {},
     "output_type": "execute_result"
    }
   ],
   "source": [
    "alpha = 1.0\n",
    "k = 3\n",
    "T = data.shape[0]\n",
    "d = data.shape[1]\n",
    "r = 1/T\n",
    "\n",
    "sdem = SDEM(r, alpha, k, d)\n",
    "sdem.prob"
   ]
  },
  {
   "cell_type": "code",
   "execution_count": 12,
   "metadata": {
    "scrolled": false
   },
   "outputs": [],
   "source": [
    "sdem.train(data)"
   ]
  },
  {
   "cell_type": "code",
   "execution_count": 13,
   "metadata": {},
   "outputs": [
    {
     "data": {
      "image/png": "[encoded data removed]",
      "text/plain": [
       "<Figure size 864x360 with 1 Axes>"
      ]
     },
     "metadata": {},
     "output_type": "display_data"
    }
   ],
   "source": [
    "# plot generated data        \n",
    "plt.figure(figsize=(12, 5))\n",
    "for i in range(3):\n",
    "    plt.scatter(org_data[org_data[:,2]==i][:,0], org_data[org_data[:,2]==i][:,1], s=30, c=c[i], alpha=0.1)\n",
    "#c_ = [\"c\", \"m\", \"y\"]\n",
    "for i in range(3):\n",
    "    plt.scatter(sdem.mu[-1, i, 0], sdem.mu[-1, i, 1], s=50, c=c[i])"
   ]
  },
  {
   "cell_type": "code",
   "execution_count": 14,
   "metadata": {},
   "outputs": [],
   "source": [
    "def hellinger_distance(mu, sigma, mu_prev, sigma_prev):\n",
    "    mu = mu.reshape((mu.shape[0], 1))\n",
    "    mu_prev = mu_prev.reshape((mu_prev.shape[0], 1))\n",
    "    \n",
    "    d_h = -(2 * np.linalg.det((np.linalg.inv(sigma) + np.linalg.inv(sigma_prev)) / 2) ** (-1/2)) / (np.linalg.det(sigma) ** (1/4) * np.linalg.det(sigma_prev) ** (1/4))\n",
    "    \n",
    "    #tmp = np.exp((1/2) * np.dot(np.dot(np.dot(np.linalg.inv(sigma), mu) + np.dot(np.linalg.inv(sigma_prev), mu_prev).T, \n",
    "    #                          np.linalg.inv(np.linalg.inv(sigma) + np.linalg.inv(sigma_prev))),\n",
    "    #                          np.dot(np.linalg.inv(sigma), mu + np.dot(np.linalg.inv(sigma_prev), mu_prev).T)))\n",
    "    A = (np.dot(np.linalg.inv(sigma), mu) + np.dot(np.linalg.inv(sigma_prev), mu_prev)).T\n",
    "    B = np.linalg.inv(np.linalg.inv(sigma) + np.linalg.inv(sigma_prev))\n",
    "    C = np.dot(np.linalg.inv(sigma), mu) + np.dot(np.linalg.inv(sigma_prev), mu_prev)\n",
    "    \n",
    "    #print(\"A\", A)\n",
    "    #print(\"B\", B)\n",
    "    #print(\"C\", C)\n",
    "    tmp = np.exp((1/2) * np.dot(np.dot(A, B), C))\n",
    "    tmp *= np.exp(-(1/2) * (np.dot(np.dot(mu.T, np.linalg.inv(sigma)), mu) + np.dot(np.dot(mu_prev.T, np.linalg.inv(sigma_prev)), mu_prev)))\n",
    "    d_h *= tmp\n",
    "    d_h += 2\n",
    "    return d_h\n",
    "\n",
    "def calc_hellinger_distance(pi, pi_prev, mu, sigma, mu_prev, sigma_prev, k):\n",
    "    d_H = 0\n",
    "    for i in range(k):\n",
    "        d_h = hellinger_distance(mu[i], sigma[i], mu_prev[i], sigma_prev[i])\n",
    "        d_H += (pi[i] + pi_prev[i])/2 * d_h\n",
    "    tmp = 0\n",
    "    for i in range(k):\n",
    "        tmp += np.sqrt(pi[i]) - np.sqrt(pi_prev[i]) ** 2\n",
    "    d_H += tmp \n",
    "    return d_H\n",
    "\n",
    "def calc_hellinger_score(p, p_prev, sdem, r, k, M):\n",
    "    S_H = 0\n",
    "    for m in range(M):\n",
    "        d_H = calc_hellinger_distance(sdem[m].pi[sdem[m].t-1], sdem[m].pi[sdem[m].t-2] ,sdem[m].mu[sdem[m].t-1],\n",
    "                                      sdem[m].sigma[sdem[m].t-1], sdem[m].mu[sdem[m].t-2], sdem[m].sigma[sdem[m].t-2], k)\n",
    "        S_H += np.sqrt(p[m] * p_prev[m]) * d_H\n",
    "    tmp = 0\n",
    "    for m in range(M):\n",
    "        tmp += np.sqrt(p[m] * p_prev[m])\n",
    "    tmp *= 2\n",
    "    S_H += 2 - tmp\n",
    "    S_H /= r**2\n",
    "    \n",
    "    return S_H"
   ]
  },
  {
   "cell_type": "code",
   "execution_count": 15,
   "metadata": {},
   "outputs": [],
   "source": [
    "x = x.reshape((500, 1))\n",
    "y = data.copy()\n",
    "Z = np.concatenate((x, y), axis=1)\n",
    "Z = Z\n",
    "# x\n",
    "# X[:, 0]\n",
    "# y\n",
    "# X[:, 1:]"
   ]
  },
  {
   "cell_type": "markdown",
   "metadata": {},
   "source": [
    "### SmartSifterの実行"
   ]
  },
  {
   "cell_type": "code",
   "execution_count": 16,
   "metadata": {},
   "outputs": [],
   "source": [
    "# パラメータ設定\n",
    "alpha = 1.0\n",
    "k = 3\n",
    "T = data.shape[0]\n",
    "d = data.shape[1]\n",
    "r = 1/T * 100\n",
    "beta = 1\n",
    "M = len(np.unique(x))\n",
    "\n",
    "# オブジェクトの初期化\n",
    "sdle = SDLE(r, beta, A)\n",
    "sdem = [SDEM(r, alpha, k, d) for i in range(M)]\n",
    "\n",
    "# 同時確率\n",
    "p = []\n",
    "# ヘリンジャースコア\n",
    "S_H = []\n",
    "# 対数損失\n",
    "S_L = []"
   ]
  },
  {
   "cell_type": "code",
   "execution_count": 17,
   "metadata": {},
   "outputs": [
    {
     "name": "stderr",
     "output_type": "stream",
     "text": [
      "/Users/satetsu/anaconda/envs/datamining/lib/python3.6/site-packages/ipykernel_launcher.py:5: FutureWarning: comparison to `None` will result in an elementwise object comparison in the future.\n",
      "  \"\"\"\n",
      "/Users/satetsu/anaconda/envs/datamining/lib/python3.6/site-packages/ipykernel_launcher.py:21: RuntimeWarning: divide by zero encountered in log\n"
     ]
    }
   ],
   "source": [
    "for i, (x_t, y_t) in enumerate(zip(x, y)):\n",
    "    sdle.update(x_t)\n",
    "    # 各セルに対応する混合ガウス分布を推定\n",
    "    for m in range(sdle.M):\n",
    "        if sdle.flag == None:\n",
    "            sdem[m].skip()\n",
    "        elif m == int(sdle.flag):\n",
    "            sdem[m].update(y_t)\n",
    "        else:\n",
    "            sdem[m].skip()\n",
    "        # tmp: p(y|x)\n",
    "        tmp = np.dot(sdem[m].prob[sdem[m].t-1], sdem[m].pi[sdem[m].t-1])\n",
    "    if i == 0:\n",
    "        p_prev = 0\n",
    "    else:\n",
    "        p_prev = p[-1]  \n",
    "    p_t = tmp * sdle.prob[sdle.t-1, int(sdle.flag)]\n",
    "    p.append(p_t)\n",
    "    s_h = calc_hellinger_score(sdle.prob[sdle.t-1], sdle.prob[sdle.t-2], sdem, sdle.r, k, sdle.M)\n",
    "    S_H.append(float(s_h))\n",
    "    s_l = -np.log(p_prev)\n",
    "    S_L.append(s_l)"
   ]
  },
  {
   "cell_type": "code",
   "execution_count": 18,
   "metadata": {},
   "outputs": [
    {
     "data": {
      "text/html": [
       "<div>\n",
       "<table border=\"1\" class=\"dataframe\">\n",
       "  <thead>\n",
       "    <tr style=\"text-align: right;\">\n",
       "      <th></th>\n",
       "      <th>x</th>\n",
       "      <th>y1</th>\n",
       "      <th>y2</th>\n",
       "      <th>S_L</th>\n",
       "      <th>S_H</th>\n",
       "    </tr>\n",
       "  </thead>\n",
       "  <tbody>\n",
       "    <tr>\n",
       "      <th>0</th>\n",
       "      <td>5.0</td>\n",
       "      <td>0.074447</td>\n",
       "      <td>0.489028</td>\n",
       "      <td>inf</td>\n",
       "      <td>50.000000</td>\n",
       "    </tr>\n",
       "    <tr>\n",
       "      <th>1</th>\n",
       "      <td>2.0</td>\n",
       "      <td>0.341009</td>\n",
       "      <td>0.711644</td>\n",
       "      <td>3.075760</td>\n",
       "      <td>41.859885</td>\n",
       "    </tr>\n",
       "    <tr>\n",
       "      <th>2</th>\n",
       "      <td>0.0</td>\n",
       "      <td>0.229141</td>\n",
       "      <td>0.187111</td>\n",
       "      <td>inf</td>\n",
       "      <td>35.874155</td>\n",
       "    </tr>\n",
       "    <tr>\n",
       "      <th>3</th>\n",
       "      <td>4.0</td>\n",
       "      <td>0.252664</td>\n",
       "      <td>0.279727</td>\n",
       "      <td>3.240236</td>\n",
       "      <td>31.071313</td>\n",
       "    </tr>\n",
       "    <tr>\n",
       "      <th>4</th>\n",
       "      <td>3.0</td>\n",
       "      <td>-0.214240</td>\n",
       "      <td>-0.039778</td>\n",
       "      <td>inf</td>\n",
       "      <td>26.971729</td>\n",
       "    </tr>\n",
       "  </tbody>\n",
       "</table>\n",
       "</div>"
      ],
      "text/plain": [
       "     x        y1        y2       S_L        S_H\n",
       "0  5.0  0.074447  0.489028       inf  50.000000\n",
       "1  2.0  0.341009  0.711644  3.075760  41.859885\n",
       "2  0.0  0.229141  0.187111       inf  35.874155\n",
       "3  4.0  0.252664  0.279727  3.240236  31.071313\n",
       "4  3.0 -0.214240 -0.039778       inf  26.971729"
      ]
     },
     "metadata": {},
     "output_type": "display_data"
    }
   ],
   "source": [
    "df = pd.DataFrame(Z)\n",
    "df.columns = [\"x\", \"y1\", \"y2\"]\n",
    "df_S_L = pd.DataFrame(S_L)\n",
    "df_S_H = pd.DataFrame(S_H)\n",
    "df_S_L.columns = [\"S_L\"]\n",
    "df_S_H.columns = [\"S_H\"]\n",
    "df = pd.concat([df, df_S_L, df_S_H], axis=1)\n",
    "#df = df[1:]\n",
    "display(df.head())"
   ]
  },
  {
   "cell_type": "code",
   "execution_count": null,
   "metadata": {},
   "outputs": [],
   "source": []
  }
 ],
 "metadata": {
  "kernelspec": {
   "display_name": "Python 3",
   "language": "python",
   "name": "python3"
  },
  "language_info": {
   "codemirror_mode": {
    "name": "ipython",
    "version": 3
   },
   "file_extension": ".py",
   "mimetype": "text/x-python",
   "name": "python",
   "nbconvert_exporter": "python",
   "pygments_lexer": "ipython3",
   "version": "3.6.0"
  }
 },
 "nbformat": 4,
 "nbformat_minor": 2
}
