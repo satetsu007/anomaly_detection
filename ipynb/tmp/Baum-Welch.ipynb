{
 "cells": [
  {
   "cell_type": "code",
   "execution_count": 1,
   "metadata": {},
   "outputs": [],
   "source": [
    "import os\n",
    "import numpy as np\n",
    "import pandas as pd\n",
    "import scipy.stats as st\n",
    "import numpy.random as rd\n",
    "import matplotlib.pyplot as plt\n",
    "from IPython.display import display\n",
    "plt.style.use(\"ggplot\")\n",
    "\n",
    "%matplotlib inline"
   ]
  },
  {
   "cell_type": "code",
   "execution_count": 2,
   "metadata": {},
   "outputs": [],
   "source": [
    "np.random.seed(0)\n",
    "a = np.array([[0.5, 0.5], [0.5, 0.5]])\n",
    "b = np.array([[0.5, 0.5], [0.5, 0.5]])\n",
    "gamma = np.array([0.5, 0.5])\n",
    "Tj = 10\n",
    "s = [0, 1]\n",
    "y = np.random.choice(s, Tj)\n",
    "N1 = len(s)"
   ]
  },
  {
   "cell_type": "code",
   "execution_count": 3,
   "metadata": {},
   "outputs": [
    {
     "data": {
      "text/plain": [
       "array([0, 1, 1, 0, 1, 1, 1, 1, 1, 1])"
      ]
     },
     "execution_count": 3,
     "metadata": {},
     "output_type": "execute_result"
    }
   ],
   "source": [
    "y"
   ]
  },
  {
   "cell_type": "code",
   "execution_count": 4,
   "metadata": {},
   "outputs": [],
   "source": [
    "# Baum-Welch(E-step)\n",
    "def Baum_Welch(y, gamma, a, b):\n",
    "    \"\"\"\n",
    "    gamma: 初期確率\n",
    "    a: 遷移確率\n",
    "    b: 出力確率\n",
    "    \n",
    "    alpha, beta, tau, tau_をBaum-Welchアルゴリズムで計算\n",
    "    \"\"\"\n",
    "    alpha = np.zeros((Tj, N1))\n",
    "    beta = np.zeros((Tj, N1))\n",
    "    tau = np.zeros((Tj, N1, N1))\n",
    "    tau_ = np.zeros((Tj, N1))\n",
    "    \n",
    "    # forwardアルゴリズム(alphaの計算)\n",
    "    for t in range(Tj):\n",
    "        for j in range(N1):\n",
    "            if t==0:\n",
    "                alpha[t, j] = gamma[j] * b[j, y[0]]\n",
    "            else:\n",
    "                for i in range(N1):\n",
    "                    alpha[t, j] += alpha[t-1, i] * a[i, j]\n",
    "                alpha[t, j] *= b[i, y[0]]\n",
    "    \n",
    "    # backwardアルゴリズム(betaの計算)\n",
    "    for t in range(Tj)[::-1]:\n",
    "        for i in range(N1):\n",
    "            if t==(Tj-1):\n",
    "                beta[t, i] = 1\n",
    "            else:\n",
    "                for j in range(N1):\n",
    "                    beta[t, i] += a[i, j] * b[j, y[t+1]] * beta[t+1, j]\n",
    "\n",
    "    # tauの計算\n",
    "    for t in range(Tj-1):\n",
    "        m = 0\n",
    "        for i in range(N1):\n",
    "            for j in range(N1):\n",
    "                m += (alpha[t, i] * a[i, j] * b[j, y[t+1]] * beta[t+1, j])\n",
    "        for i in range(N1):\n",
    "            for j in range(N1):       \n",
    "                tau[t, i, j] = (alpha[t, i] * a[i, j] * b[j, y[t+1]] * beta[t+1, j]) / m\n",
    "    \n",
    "    # tau_の計算\n",
    "    for t in range(Tj):\n",
    "        for i in range(N1):\n",
    "            for j in range(N1):\n",
    "                tau_[t, i] += tau[t, i, j]\n",
    "\n",
    "    return alpha, beta, tau, tau_"
   ]
  },
  {
   "cell_type": "code",
   "execution_count": 5,
   "metadata": {},
   "outputs": [
    {
     "name": "stdout",
     "output_type": "stream",
     "text": [
      "[[[ 0.25  0.25]\n",
      "  [ 0.25  0.25]]\n",
      "\n",
      " [[ 0.25  0.25]\n",
      "  [ 0.25  0.25]]\n",
      "\n",
      " [[ 0.25  0.25]\n",
      "  [ 0.25  0.25]]\n",
      "\n",
      " [[ 0.25  0.25]\n",
      "  [ 0.25  0.25]]\n",
      "\n",
      " [[ 0.25  0.25]\n",
      "  [ 0.25  0.25]]\n",
      "\n",
      " [[ 0.25  0.25]\n",
      "  [ 0.25  0.25]]\n",
      "\n",
      " [[ 0.25  0.25]\n",
      "  [ 0.25  0.25]]\n",
      "\n",
      " [[ 0.25  0.25]\n",
      "  [ 0.25  0.25]]\n",
      "\n",
      " [[ 0.25  0.25]\n",
      "  [ 0.25  0.25]]\n",
      "\n",
      " [[ 0.    0.  ]\n",
      "  [ 0.    0.  ]]]\n"
     ]
    }
   ],
   "source": [
    "alpha, beta, tau, tau_ = Baum_Welch(y, gamma, a, b)\n",
    "print(alpha)\n",
    "print(beta)\n",
    "print(tau)\n",
    "print(tau_)"
   ]
  },
  {
   "cell_type": "code",
   "execution_count": null,
   "metadata": {},
   "outputs": [],
   "source": []
  }
 ],
 "metadata": {
  "kernelspec": {
   "display_name": "Python 3",
   "language": "python",
   "name": "python3"
  },
  "language_info": {
   "codemirror_mode": {
    "name": "ipython",
    "version": 3
   },
   "file_extension": ".py",
   "mimetype": "text/x-python",
   "name": "python",
   "nbconvert_exporter": "python",
   "pygments_lexer": "ipython3",
   "version": "3.6.0"
  }
 },
 "nbformat": 4,
 "nbformat_minor": 2
}
