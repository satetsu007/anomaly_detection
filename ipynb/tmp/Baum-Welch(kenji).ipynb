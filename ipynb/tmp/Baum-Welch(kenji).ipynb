{
 "cells": [
  {
   "cell_type": "code",
   "execution_count": 1,
   "metadata": {},
   "outputs": [],
   "source": [
    "#-*- coding:utf-8 -*-\n",
    "import numpy as np\n",
    "import numpy.random as rd\n",
    "import pandas as pd\n",
    "\n",
    "seed = 0"
   ]
  },
  {
   "cell_type": "code",
   "execution_count": 2,
   "metadata": {},
   "outputs": [
    {
     "name": "stdout",
     "output_type": "stream",
     "text": [
      "[0, 1]\n"
     ]
    }
   ],
   "source": [
    "#S: 状態空間, |S|=N1\n",
    "N1 = 2\n",
    "\n",
    "#Y: イベントシンボル集合 |Y|=N2\n",
    "Y = [0, 1]\n",
    "print(Y)\n",
    "N2 = len(Y)"
   ]
  },
  {
   "cell_type": "code",
   "execution_count": 3,
   "metadata": {},
   "outputs": [
    {
     "name": "stdout",
     "output_type": "stream",
     "text": [
      "[0 1 1 0 1 1 1 1 1 1]\n"
     ]
    }
   ],
   "source": [
    "#y: 長さTのセッション\n",
    "T = 10\n",
    "rd.seed(0)\n",
    "y = rd.choice(list(Y), T)\n",
    "print(y)"
   ]
  },
  {
   "cell_type": "markdown",
   "metadata": {},
   "source": [
    "### Baum-Welch"
   ]
  },
  {
   "cell_type": "code",
   "execution_count": 4,
   "metadata": {},
   "outputs": [],
   "source": [
    "#E-Step: (α, β, τ, τ'の推定)\n",
    "#初期化\n",
    "gamma = np.array([1/N1 for _ in range(N1)]) #等確率とする\n",
    "A = np.ones((N1, N1)) / N1\n",
    "B = np.ones((N1, N2)) / N2\n",
    "alpha = np.zeros((T, N1))\n",
    "beta = np.zeros((T, N1))\n",
    "tau = np.zeros((T, N1, N1))\n",
    "tau_ = np.zeros((T, N1))"
   ]
  },
  {
   "cell_type": "code",
   "execution_count": 5,
   "metadata": {},
   "outputs": [
    {
     "data": {
      "text/plain": [
       "array([[ 0.5,  0.5],\n",
       "       [ 0.5,  0.5]])"
      ]
     },
     "execution_count": 5,
     "metadata": {},
     "output_type": "execute_result"
    }
   ],
   "source": [
    "A"
   ]
  },
  {
   "cell_type": "code",
   "execution_count": 6,
   "metadata": {},
   "outputs": [
    {
     "data": {
      "text/plain": [
       "array([[ 0.5,  0.5],\n",
       "       [ 0.5,  0.5]])"
      ]
     },
     "execution_count": 6,
     "metadata": {},
     "output_type": "execute_result"
    }
   ],
   "source": [
    "B"
   ]
  },
  {
   "cell_type": "code",
   "execution_count": 7,
   "metadata": {},
   "outputs": [
    {
     "data": {
      "text/plain": [
       "array([ 0.5,  0.5])"
      ]
     },
     "execution_count": 7,
     "metadata": {},
     "output_type": "execute_result"
    }
   ],
   "source": [
    "gamma"
   ]
  },
  {
   "cell_type": "code",
   "execution_count": 8,
   "metadata": {},
   "outputs": [],
   "source": [
    "#αについて(forward型推定)\n",
    "#Step1: 初期化\n",
    "alpha[0] = gamma * B[:, y[0]]\n",
    "\n",
    "#Step2: 再帰的計算\n",
    "for t in range(T-1):\n",
    "    for j in range(N1):\n",
    "        alpha[t+1, j] = np.sum(alpha[t] * A[:, j]) * B[j, y[t+1]]"
   ]
  },
  {
   "cell_type": "code",
   "execution_count": 9,
   "metadata": {},
   "outputs": [],
   "source": [
    "#βについて(backward推定)\n",
    "#Step1: 初期化\n",
    "beta[-1] = 1\n",
    "\n",
    "#Step2: 再帰的計算\n",
    "for t in range(T-1)[::-1]:\n",
    "    for i in range(N1):\n",
    "        beta[t, i] = np.sum(A[i] * B[:, y[t+1]] * beta[t+1])"
   ]
  },
  {
   "cell_type": "code",
   "execution_count": 10,
   "metadata": {},
   "outputs": [
    {
     "data": {
      "text/plain": [
       "array([[ 0.25      ,  0.25      ],\n",
       "       [ 0.125     ,  0.125     ],\n",
       "       [ 0.0625    ,  0.0625    ],\n",
       "       [ 0.03125   ,  0.03125   ],\n",
       "       [ 0.015625  ,  0.015625  ],\n",
       "       [ 0.0078125 ,  0.0078125 ],\n",
       "       [ 0.00390625,  0.00390625],\n",
       "       [ 0.00195312,  0.00195312],\n",
       "       [ 0.00097656,  0.00097656],\n",
       "       [ 0.00048828,  0.00048828]])"
      ]
     },
     "execution_count": 10,
     "metadata": {},
     "output_type": "execute_result"
    }
   ],
   "source": [
    "alpha"
   ]
  },
  {
   "cell_type": "code",
   "execution_count": 11,
   "metadata": {},
   "outputs": [
    {
     "data": {
      "text/plain": [
       "array([[ 0.00195312,  0.00195312],\n",
       "       [ 0.00390625,  0.00390625],\n",
       "       [ 0.0078125 ,  0.0078125 ],\n",
       "       [ 0.015625  ,  0.015625  ],\n",
       "       [ 0.03125   ,  0.03125   ],\n",
       "       [ 0.0625    ,  0.0625    ],\n",
       "       [ 0.125     ,  0.125     ],\n",
       "       [ 0.25      ,  0.25      ],\n",
       "       [ 0.5       ,  0.5       ],\n",
       "       [ 1.        ,  1.        ]])"
      ]
     },
     "execution_count": 11,
     "metadata": {},
     "output_type": "execute_result"
    }
   ],
   "source": [
    "beta"
   ]
  },
  {
   "cell_type": "code",
   "execution_count": 12,
   "metadata": {},
   "outputs": [
    {
     "data": {
      "text/plain": [
       "array([0, 1, 1, 0, 1, 1, 1, 1, 1, 1])"
      ]
     },
     "execution_count": 12,
     "metadata": {},
     "output_type": "execute_result"
    }
   ],
   "source": [
    "y"
   ]
  },
  {
   "cell_type": "code",
   "execution_count": 13,
   "metadata": {},
   "outputs": [
    {
     "data": {
      "text/plain": [
       "[0, 0, 0, 0, 0, 0, 0, 0, 0, 0]"
      ]
     },
     "execution_count": 13,
     "metadata": {},
     "output_type": "execute_result"
    }
   ],
   "source": [
    "y = [0 for i in range(T)]\n",
    "y"
   ]
  },
  {
   "cell_type": "code",
   "execution_count": 14,
   "metadata": {},
   "outputs": [
    {
     "name": "stdout",
     "output_type": "stream",
     "text": [
      "0.0009765625\n",
      "0.0009765625\n",
      "0.0009765625\n",
      "0.0009765625\n",
      "0.0009765625\n",
      "0.0009765625\n",
      "0.0009765625\n",
      "0.0009765625\n",
      "0.0009765625\n"
     ]
    }
   ],
   "source": [
    "#τについて\n",
    "for t in range(T-1):\n",
    "    #分母(denominator)を計算する\n",
    "    d = np.sum([np.sum(alpha[t, i] * A[i, :] * B[:, y[t+1]] * beta[t+1, :]) for i in range(N1)])\n",
    "    print(d)\n",
    "    \n",
    "    for i in range(N1):\n",
    "        for j in range(N1):\n",
    "            tau[t, i, j] = alpha[t, i] * A[i, j] * B[j, y[t+1]] * beta[t+1, j] / d"
   ]
  },
  {
   "cell_type": "code",
   "execution_count": 15,
   "metadata": {},
   "outputs": [
    {
     "data": {
      "text/plain": [
       "0.0009765625"
      ]
     },
     "execution_count": 15,
     "metadata": {},
     "output_type": "execute_result"
    }
   ],
   "source": [
    "t = 0\n",
    "alpha[t, 0] * A[0,0] * B[0, y[t+1]] * beta[t+1,0] + alpha[t, 1] * A[0,1] * B[1, y[t+1]] * beta[t+1,1] +\\\n",
    "alpha[t, 1] * A[1,0] * B[1, y[t+1]] * beta[t+1,1] + alpha[t, 1] * A[1,1] * B[1, y[t+1]] * beta[t+1,1] "
   ]
  },
  {
   "cell_type": "code",
   "execution_count": 16,
   "metadata": {},
   "outputs": [
    {
     "data": {
      "text/plain": [
       "0.0009765625"
      ]
     },
     "execution_count": 16,
     "metadata": {},
     "output_type": "execute_result"
    }
   ],
   "source": [
    "t = 8\n",
    "alpha[t, 0] * A[0,0] * B[0, y[t+1]] * beta[t+1,0] + alpha[t, 1] * A[0,1] * B[1, y[t+1]] * beta[t+1,1] +\\\n",
    "alpha[t, 1] * A[1,0] * B[1, y[t+1]] * beta[t+1,1] + alpha[t, 1] * A[1,1] * B[1, y[t+1]] * beta[t+1,1]"
   ]
  },
  {
   "cell_type": "code",
   "execution_count": 17,
   "metadata": {},
   "outputs": [
    {
     "data": {
      "text/plain": [
       "array([[[ 0.25,  0.25],\n",
       "        [ 0.25,  0.25]],\n",
       "\n",
       "       [[ 0.25,  0.25],\n",
       "        [ 0.25,  0.25]],\n",
       "\n",
       "       [[ 0.25,  0.25],\n",
       "        [ 0.25,  0.25]],\n",
       "\n",
       "       [[ 0.25,  0.25],\n",
       "        [ 0.25,  0.25]],\n",
       "\n",
       "       [[ 0.25,  0.25],\n",
       "        [ 0.25,  0.25]],\n",
       "\n",
       "       [[ 0.25,  0.25],\n",
       "        [ 0.25,  0.25]],\n",
       "\n",
       "       [[ 0.25,  0.25],\n",
       "        [ 0.25,  0.25]],\n",
       "\n",
       "       [[ 0.25,  0.25],\n",
       "        [ 0.25,  0.25]],\n",
       "\n",
       "       [[ 0.25,  0.25],\n",
       "        [ 0.25,  0.25]],\n",
       "\n",
       "       [[ 0.  ,  0.  ],\n",
       "        [ 0.  ,  0.  ]]])"
      ]
     },
     "execution_count": 17,
     "metadata": {},
     "output_type": "execute_result"
    }
   ],
   "source": [
    "tau"
   ]
  },
  {
   "cell_type": "code",
   "execution_count": null,
   "metadata": {},
   "outputs": [],
   "source": []
  },
  {
   "cell_type": "code",
   "execution_count": 18,
   "metadata": {},
   "outputs": [],
   "source": [
    "#τ'について\n",
    "for t in range(T):\n",
    "    for i in range(N1):\n",
    "        tau_[t, i] = np.sum(tau[t][i, :])"
   ]
  },
  {
   "cell_type": "code",
   "execution_count": 19,
   "metadata": {},
   "outputs": [
    {
     "data": {
      "text/plain": [
       "array([[ 0.5,  0.5],\n",
       "       [ 0.5,  0.5],\n",
       "       [ 0.5,  0.5],\n",
       "       [ 0.5,  0.5],\n",
       "       [ 0.5,  0.5],\n",
       "       [ 0.5,  0.5],\n",
       "       [ 0.5,  0.5],\n",
       "       [ 0.5,  0.5],\n",
       "       [ 0.5,  0.5],\n",
       "       [ 0. ,  0. ]])"
      ]
     },
     "execution_count": 19,
     "metadata": {},
     "output_type": "execute_result"
    }
   ],
   "source": [
    "tau_"
   ]
  },
  {
   "cell_type": "code",
   "execution_count": null,
   "metadata": {},
   "outputs": [],
   "source": []
  },
  {
   "cell_type": "code",
   "execution_count": 20,
   "metadata": {},
   "outputs": [],
   "source": [
    "def Baum_Welch(y, T, N1, N2):\n",
    "    '''\n",
    "    Baum_WelchにおけるE-Step\n",
    "    '''\n",
    "    #初期化\n",
    "    gamma = np.array([1/N1 for _ in range(N1)]) #等確率とする\n",
    "    A = np.ones((N1, N1)) / N1\n",
    "    B = np.ones((N1, N2)) / N2\n",
    "    alpha = np.zeros((T, N1))\n",
    "    beta = np.zeros((T, N1))\n",
    "    tau = np.zeros((T, N1, N1))\n",
    "    tau_ = np.zeros((T, N1))\n",
    "    \n",
    "    #αについて(forward型推定)\n",
    "    #Step1: 初期化\n",
    "    alpha[0] = gamma * B[:, y[0]]\n",
    "\n",
    "    #Step2: 再帰的計算\n",
    "    for t in range(T-1):\n",
    "        for j in range(N1):\n",
    "            alpha[t+1, j] = np.sum(alpha[t] * A[:, j]) * B[j, y[t+1]]\n",
    "    \n",
    "    \n",
    "    #βについて(backward推定)\n",
    "    #Step1: 初期化\n",
    "    beta[-1] = 1\n",
    "\n",
    "    #Step2: 再帰的計算\n",
    "    for t in range(T-1)[::-1]:\n",
    "        for i in range(N1):\n",
    "            beta[t, i] = np.sum(A[i] * B[:, y[t+1]] * beta[t+1])\n",
    "    \n",
    "    \n",
    "    #τについて\n",
    "    for t in range(T-1):\n",
    "        #分母(denominator)を計算する\n",
    "        d = np.sum([np.sum(alpha[t, i] * A[i, :] * B[:, y[t+1]] * beta[t+1, :]) for i in range(N1)])\n",
    "\n",
    "        for i in range(N1):\n",
    "            for j in range(N1):\n",
    "                tau[t, i, j] = alpha[t, i] * A[i, j] * B[j, y[t+1]] * beta[t+1, j] / d\n",
    "    \n",
    "    \n",
    "    #τ'について\n",
    "    for t in range(T):\n",
    "        for i in range(N1):\n",
    "            tau_[t, i] = np.sum(tau[t][i, :])\n",
    "            \n",
    "    return alpha, beta, tau, tau_"
   ]
  },
  {
   "cell_type": "code",
   "execution_count": 21,
   "metadata": {},
   "outputs": [
    {
     "name": "stdout",
     "output_type": "stream",
     "text": [
      "[0, 1]\n",
      "[0 1 1 0 1 1 1 1 1 1]\n"
     ]
    }
   ],
   "source": [
    "#S: 状態空間, |S|=N1\n",
    "N1 = 2\n",
    "\n",
    "#Y: イベントシンボル集合 |Y|=N2\n",
    "Y = [0, 1]\n",
    "print(Y)\n",
    "N2 = len(Y)\n",
    "\n",
    "#y: 長さTのセッション\n",
    "T = 10\n",
    "rd.seed(0)\n",
    "y = rd.choice(list(Y), T)\n",
    "print(y)"
   ]
  },
  {
   "cell_type": "code",
   "execution_count": 22,
   "metadata": {},
   "outputs": [
    {
     "data": {
      "text/plain": [
       "(array([[ 0.25      ,  0.25      ],\n",
       "        [ 0.125     ,  0.125     ],\n",
       "        [ 0.0625    ,  0.0625    ],\n",
       "        [ 0.03125   ,  0.03125   ],\n",
       "        [ 0.015625  ,  0.015625  ],\n",
       "        [ 0.0078125 ,  0.0078125 ],\n",
       "        [ 0.00390625,  0.00390625],\n",
       "        [ 0.00195312,  0.00195312],\n",
       "        [ 0.00097656,  0.00097656],\n",
       "        [ 0.00048828,  0.00048828]]), array([[ 0.00195312,  0.00195312],\n",
       "        [ 0.00390625,  0.00390625],\n",
       "        [ 0.0078125 ,  0.0078125 ],\n",
       "        [ 0.015625  ,  0.015625  ],\n",
       "        [ 0.03125   ,  0.03125   ],\n",
       "        [ 0.0625    ,  0.0625    ],\n",
       "        [ 0.125     ,  0.125     ],\n",
       "        [ 0.25      ,  0.25      ],\n",
       "        [ 0.5       ,  0.5       ],\n",
       "        [ 1.        ,  1.        ]]), array([[[ 0.25,  0.25],\n",
       "         [ 0.25,  0.25]],\n",
       " \n",
       "        [[ 0.25,  0.25],\n",
       "         [ 0.25,  0.25]],\n",
       " \n",
       "        [[ 0.25,  0.25],\n",
       "         [ 0.25,  0.25]],\n",
       " \n",
       "        [[ 0.25,  0.25],\n",
       "         [ 0.25,  0.25]],\n",
       " \n",
       "        [[ 0.25,  0.25],\n",
       "         [ 0.25,  0.25]],\n",
       " \n",
       "        [[ 0.25,  0.25],\n",
       "         [ 0.25,  0.25]],\n",
       " \n",
       "        [[ 0.25,  0.25],\n",
       "         [ 0.25,  0.25]],\n",
       " \n",
       "        [[ 0.25,  0.25],\n",
       "         [ 0.25,  0.25]],\n",
       " \n",
       "        [[ 0.25,  0.25],\n",
       "         [ 0.25,  0.25]],\n",
       " \n",
       "        [[ 0.  ,  0.  ],\n",
       "         [ 0.  ,  0.  ]]]), array([[ 0.5,  0.5],\n",
       "        [ 0.5,  0.5],\n",
       "        [ 0.5,  0.5],\n",
       "        [ 0.5,  0.5],\n",
       "        [ 0.5,  0.5],\n",
       "        [ 0.5,  0.5],\n",
       "        [ 0.5,  0.5],\n",
       "        [ 0.5,  0.5],\n",
       "        [ 0.5,  0.5],\n",
       "        [ 0. ,  0. ]]))"
      ]
     },
     "execution_count": 22,
     "metadata": {},
     "output_type": "execute_result"
    }
   ],
   "source": [
    "Baum_Welch(y, T, N1, N2)"
   ]
  },
  {
   "cell_type": "code",
   "execution_count": null,
   "metadata": {},
   "outputs": [],
   "source": []
  }
 ],
 "metadata": {
  "kernelspec": {
   "display_name": "Python 3",
   "language": "python",
   "name": "python3"
  },
  "language_info": {
   "codemirror_mode": {
    "name": "ipython",
    "version": 3
   },
   "file_extension": ".py",
   "mimetype": "text/x-python",
   "name": "python",
   "nbconvert_exporter": "python",
   "pygments_lexer": "ipython3",
   "version": "3.6.0"
  }
 },
 "nbformat": 4,
 "nbformat_minor": 2
}
