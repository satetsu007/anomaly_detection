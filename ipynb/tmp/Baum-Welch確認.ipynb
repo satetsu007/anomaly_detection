{
 "cells": [
  {
   "cell_type": "code",
   "execution_count": 1,
   "metadata": {},
   "outputs": [],
   "source": [
    "#-*- coding:utf-8 -*-\n",
    "import numpy as np\n",
    "import numpy.random as rd\n",
    "import pandas as pd\n",
    "\n",
    "seed = 0"
   ]
  },
  {
   "cell_type": "code",
   "execution_count": 2,
   "metadata": {},
   "outputs": [
    {
     "name": "stdout",
     "output_type": "stream",
     "text": [
      "[0, 1]\n"
     ]
    }
   ],
   "source": [
    "#S: 状態空間, |S|=N1\n",
    "N1 = 3\n",
    "\n",
    "#Y: イベントシンボル集合 |Y|=N2\n",
    "Y = [0, 1]\n",
    "print(Y)\n",
    "N2 = len(Y)"
   ]
  },
  {
   "cell_type": "code",
   "execution_count": 4,
   "metadata": {},
   "outputs": [
    {
     "name": "stdout",
     "output_type": "stream",
     "text": [
      "[0, 1, 0]\n"
     ]
    }
   ],
   "source": [
    "#y: 長さTのセッション\n",
    "T = 3\n",
    "rd.seed(0)\n",
    "y = [0, 1, 0]\n",
    "print(y)"
   ]
  },
  {
   "cell_type": "markdown",
   "metadata": {},
   "source": [
    "### Baum-Welch"
   ]
  },
  {
   "cell_type": "code",
   "execution_count": 5,
   "metadata": {},
   "outputs": [],
   "source": [
    "#E-Step: (α, β, τ, τ'の推定)\n",
    "#初期化\n",
    "gamma = np.array([1/N1 for _ in range(N1)]) #等確率とする\n",
    "alpha = np.zeros((T, N1))\n",
    "beta = np.zeros((T, N1))\n",
    "A = np.array([[1, 7, 2],\n",
    "              [2, 1, 7],\n",
    "              [7, 2, 1]]) / 10\n",
    "\n",
    "B = np.array([[9, 1],\n",
    "              [6, 4],\n",
    "              [1, 9]]) / 10"
   ]
  },
  {
   "cell_type": "code",
   "execution_count": 6,
   "metadata": {},
   "outputs": [
    {
     "data": {
      "text/plain": [
       "array([[0.1, 0.7, 0.2],\n",
       "       [0.2, 0.1, 0.7],\n",
       "       [0.7, 0.2, 0.1]])"
      ]
     },
     "execution_count": 6,
     "metadata": {},
     "output_type": "execute_result"
    }
   ],
   "source": [
    "A"
   ]
  },
  {
   "cell_type": "code",
   "execution_count": 7,
   "metadata": {},
   "outputs": [
    {
     "data": {
      "text/plain": [
       "array([[0.9, 0.1],\n",
       "       [0.6, 0.4],\n",
       "       [0.1, 0.9]])"
      ]
     },
     "execution_count": 7,
     "metadata": {},
     "output_type": "execute_result"
    }
   ],
   "source": [
    "B"
   ]
  },
  {
   "cell_type": "code",
   "execution_count": 8,
   "metadata": {},
   "outputs": [
    {
     "data": {
      "text/plain": [
       "array([0.33333333, 0.33333333, 0.33333333])"
      ]
     },
     "execution_count": 8,
     "metadata": {},
     "output_type": "execute_result"
    }
   ],
   "source": [
    "gamma"
   ]
  },
  {
   "cell_type": "code",
   "execution_count": 9,
   "metadata": {},
   "outputs": [],
   "source": [
    "#αについて(forward型推定)\n",
    "#Step1: 初期化\n",
    "alpha[0] = gamma * B[:, y[0]]\n",
    "\n",
    "#Step2: 再帰的計算\n",
    "for t in range(T-1):\n",
    "    for j in range(N1):\n",
    "        alpha[t+1, j] = np.sum(alpha[t] * A[:, j]) * B[j, y[t+1]]"
   ]
  },
  {
   "cell_type": "code",
   "execution_count": 10,
   "metadata": {},
   "outputs": [],
   "source": [
    "#βについて(backward推定)\n",
    "#Step1: 初期化\n",
    "beta[-1] = 1\n",
    "\n",
    "#Step2: 再帰的計算\n",
    "for t in range(T-1)[::-1]:\n",
    "    for i in range(N1):\n",
    "        beta[t, i] = np.sum(A[i] * B[:, y[t+1]] * beta[t+1])"
   ]
  },
  {
   "cell_type": "code",
   "execution_count": 11,
   "metadata": {},
   "outputs": [],
   "source": [
    "#τについて\n"
   ]
  },
  {
   "cell_type": "code",
   "execution_count": 13,
   "metadata": {},
   "outputs": [
    {
     "data": {
      "text/plain": [
       "0.17337333333333335"
      ]
     },
     "execution_count": 13,
     "metadata": {},
     "output_type": "execute_result"
    }
   ],
   "source": [
    "np.sum(alpha[-1])"
   ]
  },
  {
   "cell_type": "code",
   "execution_count": 14,
   "metadata": {},
   "outputs": [
    {
     "data": {
      "text/plain": [
       "array([[0.2289, 0.5018, 0.1303],\n",
       "       [0.53  , 0.31  , 0.76  ],\n",
       "       [1.    , 1.    , 1.    ]])"
      ]
     },
     "execution_count": 14,
     "metadata": {},
     "output_type": "execute_result"
    }
   ],
   "source": [
    "beta"
   ]
  },
  {
   "cell_type": "code",
   "execution_count": 18,
   "metadata": {},
   "outputs": [
    {
     "data": {
      "text/plain": [
       "0.17337333333333332"
      ]
     },
     "execution_count": 18,
     "metadata": {},
     "output_type": "execute_result"
    }
   ],
   "source": [
    "np.sum(gamma * B[:,y[0]] * beta[0])"
   ]
  },
  {
   "cell_type": "code",
   "execution_count": null,
   "metadata": {},
   "outputs": [],
   "source": []
  }
 ],
 "metadata": {
  "kernelspec": {
   "display_name": "Python 3",
   "language": "python",
   "name": "python3"
  },
  "language_info": {
   "codemirror_mode": {
    "name": "ipython",
    "version": 3
   },
   "file_extension": ".py",
   "mimetype": "text/x-python",
   "name": "python",
   "nbconvert_exporter": "python",
   "pygments_lexer": "ipython3",
   "version": "3.6.0"
  }
 },
 "nbformat": 4,
 "nbformat_minor": 2
}
