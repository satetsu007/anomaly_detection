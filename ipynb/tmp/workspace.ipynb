{
 "cells": [
  {
   "cell_type": "code",
   "execution_count": 3,
   "metadata": {},
   "outputs": [],
   "source": [
    "import numpy as np\n",
    "import math\n",
    "import pandas as pd"
   ]
  },
  {
   "cell_type": "code",
   "execution_count": 21,
   "metadata": {},
   "outputs": [],
   "source": [
    "# データ数\n",
    "T = 10\n",
    "\n",
    "# データ\n",
    "s1 = np.array([1, 0], dtype=np.int64)\n",
    "s2 = np.array([0, 1], dtype=np.int64)\n",
    "\n",
    "S = np.array([s1, s2])\n",
    "y = np.array([0, 1], dtype=np.int64)\n",
    "\n",
    "N1 = S.shape[0]\n",
    "N2 = Y.shape[0]\n",
    "\n",
    "A = np.zeros((N1, N1**2))\n",
    "B = np.zeros((N1, N2))\n",
    "gamma = np.zeros((N1))"
   ]
  },
  {
   "cell_type": "code",
   "execution_count": 22,
   "metadata": {},
   "outputs": [],
   "source": [
    "Y = np.random.choice(y, T)"
   ]
  },
  {
   "cell_type": "code",
   "execution_count": 30,
   "metadata": {},
   "outputs": [
    {
     "data": {
      "text/plain": [
       "array([1, 0, 1, 0, 0, 0, 0, 0, 0, 0])"
      ]
     },
     "execution_count": 30,
     "metadata": {},
     "output_type": "execute_result"
    }
   ],
   "source": [
    "Y"
   ]
  },
  {
   "cell_type": "code",
   "execution_count": 41,
   "metadata": {},
   "outputs": [],
   "source": [
    "alpha = np.zeros((T, N1))"
   ]
  },
  {
   "cell_type": "code",
   "execution_count": 28,
   "metadata": {},
   "outputs": [
    {
     "data": {
      "text/plain": [
       "0.0"
      ]
     },
     "execution_count": 28,
     "metadata": {},
     "output_type": "execute_result"
    }
   ],
   "source": [
    "# alpha_1, 0\n",
    "alpha[0, 0] = gamma[0] * B[0, Y[0]]\n",
    "# alpha_2, 0\n",
    "alpha[0, 1] = gamma[1] * B[1, Y[0]]\n",
    "# alpha_1, 1\n",
    "alpha[1, 0] = alpha[0, 0] * A[]\n",
    "# alpha_2, 1\n",
    "alpha[1, 1] = gamma[1] * B[1, Y[0]]\n",
    "\n",
    "# alpha_j, t\n",
    "for t in range(1, T):\n",
    "    for i in range(N1):\n",
    "        if t==1:\n",
    "            alpha[t, i] = alpha[t-1, i] * \n",
    "        alpha[t, i] = np.dot(alpha[t-1], a[]"
   ]
  },
  {
   "cell_type": "code",
   "execution_count": 44,
   "metadata": {},
   "outputs": [
    {
     "data": {
      "text/plain": [
       "array([ 0.,  0.,  0.,  0.])"
      ]
     },
     "execution_count": 44,
     "metadata": {},
     "output_type": "execute_result"
    }
   ],
   "source": [
    "A[j, i]"
   ]
  },
  {
   "cell_type": "code",
   "execution_count": null,
   "metadata": {},
   "outputs": [],
   "source": []
  }
 ],
 "metadata": {
  "kernelspec": {
   "display_name": "Python 3",
   "language": "python",
   "name": "python3"
  },
  "language_info": {
   "codemirror_mode": {
    "name": "ipython",
    "version": 3
   },
   "file_extension": ".py",
   "mimetype": "text/x-python",
   "name": "python",
   "nbconvert_exporter": "python",
   "pygments_lexer": "ipython3",
   "version": "3.6.0"
  }
 },
 "nbformat": 4,
 "nbformat_minor": 2
}
