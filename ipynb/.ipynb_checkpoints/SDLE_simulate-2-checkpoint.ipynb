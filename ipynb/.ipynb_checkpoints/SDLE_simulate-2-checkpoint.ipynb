{
 "cells": [
  {
   "cell_type": "code",
   "execution_count": 1,
   "metadata": {
    "collapsed": true
   },
   "outputs": [],
   "source": [
    "import numpy as np\n",
    "import pandas as pd\n",
    "import random\n",
    "import matplotlib.pyplot as plt\n",
    "import math\n",
    "import seaborn as sns"
   ]
  },
  {
   "cell_type": "code",
   "execution_count": 34,
   "metadata": {
    "collapsed": true
   },
   "outputs": [],
   "source": [
    "T = 9\n",
    "x = np.array([math.floor(random.random()*6) for i in range(T)])\n",
    "x = [1, 2, 3, 4, 5, 4, 3, 2, 1]"
   ]
  },
  {
   "cell_type": "code",
   "execution_count": 35,
   "metadata": {
    "collapsed": false
   },
   "outputs": [
    {
     "data": {
      "image/png": "[encoded data removed]",
      "text/plain": [
       "<Figure size 576x396 with 1 Axes>"
      ]
     },
     "metadata": {},
     "output_type": "display_data"
    }
   ],
   "source": [
    "plt.hist(x, rwidth=0.9)\n",
    "plt.show()"
   ]
  },
  {
   "cell_type": "code",
   "execution_count": 53,
   "metadata": {
    "collapsed": true
   },
   "outputs": [],
   "source": [
    "r = 0.1\n",
    "beta = 1\n",
    "M = 6\n",
    "X = range(M)\n",
    "T_t = np.zeros(M)\n",
    "T_t_1 = np.zeros(M)\n",
    "A = np.zeros(M)\n",
    "t = 1\n",
    "prob = np.zeros((T, M))"
   ]
  },
  {
   "cell_type": "code",
   "execution_count": 54,
   "metadata": {
    "collapsed": false
   },
   "outputs": [
    {
     "name": "stdout",
     "output_type": "stream",
     "text": [
      "[ 0.  0.  0.  0.  0.  0.]\n",
      "[ 0.  0.  0.  0.  0.  0.]\n",
      "[ 0.  0.  0.  0.  0.  0.]\n",
      "[ 0.  0.  0.  0.  0.  0.]\n",
      "[ 0.  0.  0.  0.  0.  0.]\n",
      "[ 0.  0.  0.  0.  0.  0.]\n",
      "[ 0.  1.  0.  0.  0.  0.]\n",
      "[ 0.  1.  0.  0.  0.  0.]\n",
      "[ 0.  1.  0.  0.  0.  0.]\n",
      "[ 0.  1.  0.  0.  0.  0.]\n",
      "[ 0.  1.  0.  0.  0.  0.]\n",
      "[ 0.  1.  0.  0.  0.  0.]\n",
      "[ 0.   0.9  1.   0.   0.   0. ]\n",
      "[ 0.   0.9  1.   0.   0.   0. ]\n",
      "[ 0.   0.9  1.   0.   0.   0. ]\n",
      "[ 0.   0.9  1.   0.   0.   0. ]\n",
      "[ 0.   0.9  1.   0.   0.   0. ]\n",
      "[ 0.   0.9  1.   0.   0.   0. ]\n",
      "[ 0.    0.81  0.9   1.    0.    0.  ]\n",
      "[ 0.    0.81  0.9   1.    0.    0.  ]\n",
      "[ 0.    0.81  0.9   1.    0.    0.  ]\n",
      "[ 0.    0.81  0.9   1.    0.    0.  ]\n",
      "[ 0.    0.81  0.9   1.    0.    0.  ]\n",
      "[ 0.    0.81  0.9   1.    0.    0.  ]\n",
      "[ 0.     0.729  0.81   0.9    1.     0.   ]\n",
      "[ 0.     0.729  0.81   0.9    1.     0.   ]\n",
      "[ 0.     0.729  0.81   0.9    1.     0.   ]\n",
      "[ 0.     0.729  0.81   0.9    1.     0.   ]\n",
      "[ 0.     0.729  0.81   0.9    1.     0.   ]\n",
      "[ 0.     0.729  0.81   0.9    1.     0.   ]\n",
      "[ 0.      0.6561  0.729   0.81    0.9     1.    ]\n",
      "[ 0.      0.6561  0.729   0.81    0.9     1.    ]\n",
      "[ 0.      0.6561  0.729   0.81    0.9     1.    ]\n",
      "[ 0.      0.6561  0.729   0.81    0.9     1.    ]\n",
      "[ 0.      0.6561  0.729   0.81    0.9     1.    ]\n",
      "[ 0.      0.6561  0.729   0.81    0.9     1.    ]\n",
      "[ 0.       0.59049  0.6561   0.729    1.81     0.9    ]\n",
      "[ 0.       0.59049  0.6561   0.729    1.81     0.9    ]\n",
      "[ 0.       0.59049  0.6561   0.729    1.81     0.9    ]\n",
      "[ 0.       0.59049  0.6561   0.729    1.81     0.9    ]\n",
      "[ 0.       0.59049  0.6561   0.729    1.81     0.9    ]\n",
      "[ 0.       0.59049  0.6561   0.729    1.81     0.9    ]\n",
      "[ 0.        0.531441  0.59049   1.6561    1.629     0.81    ]\n",
      "[ 0.        0.531441  0.59049   1.6561    1.629     0.81    ]\n",
      "[ 0.        0.531441  0.59049   1.6561    1.629     0.81    ]\n",
      "[ 0.        0.531441  0.59049   1.6561    1.629     0.81    ]\n",
      "[ 0.        0.531441  0.59049   1.6561    1.629     0.81    ]\n",
      "[ 0.        0.531441  0.59049   1.6561    1.629     0.81    ]\n",
      "[ 0.         0.4782969  1.531441   1.49049    1.4661     0.729    ]\n",
      "[ 0.         0.4782969  1.531441   1.49049    1.4661     0.729    ]\n",
      "[ 0.         0.4782969  1.531441   1.49049    1.4661     0.729    ]\n",
      "[ 0.         0.4782969  1.531441   1.49049    1.4661     0.729    ]\n",
      "[ 0.         0.4782969  1.531441   1.49049    1.4661     0.729    ]\n",
      "[ 0.         0.4782969  1.531441   1.49049    1.4661     0.729    ]\n"
     ]
    }
   ],
   "source": [
    "while t <= T:\n",
    "    for i in X:\n",
    "        delta = 0\n",
    "        if i == x[t-1]:\n",
    "            delta = 1\n",
    "        A[i] += delta\n",
    "            \n",
    "        T_t[i] = (1-r)*T_t_1[i]+delta\n",
    "        print(T_t_1)\n",
    "        q = (T_t[i]+beta)/((1-(1-r)**t)/r+M*beta)\n",
    "    \n",
    "        if not A[i] == 0:\n",
    "            prob[t-1, i] = q/A[i]\n",
    "    T_t_1 = np.copy(T_t)\n",
    "    t += 1"
   ]
  },
  {
   "cell_type": "code",
   "execution_count": 55,
   "metadata": {
    "collapsed": false
   },
   "outputs": [
    {
     "data": {
      "text/plain": [
       "array([[ 0.        ,  0.28571429,  0.        ,  0.        ,  0.        ,\n",
       "         0.        ],\n",
       "       [ 0.        ,  0.24050633,  0.25316456,  0.        ,  0.        ,\n",
       "         0.        ],\n",
       "       [ 0.        ,  0.20780712,  0.21814007,  0.22962113,  0.        ,\n",
       "         0.        ],\n",
       "       [ 0.        ,  0.18317618,  0.1917576 ,  0.20129251,  0.21188685,\n",
       "         0.        ],\n",
       "       [ 0.        ,  0.16404989,  0.17127121,  0.17929491,  0.18821012,\n",
       "         0.19811592],\n",
       "       [ 0.        ,  0.14884438,  0.15498442,  0.16180669,  0.13148549,\n",
       "         0.17780955],\n",
       "       [ 0.        ,  0.1365282 ,  0.14179242,  0.11839586,  0.11718787,\n",
       "         0.16136177],\n",
       "       [ 0.        ,  0.12640064,  0.10822446,  0.10647371,  0.10543099,\n",
       "         0.14783681],\n",
       "       [ 0.        ,  0.10021888,  0.09806767,  0.09654794,  0.0956428 ,\n",
       "         0.13657661]])"
      ]
     },
     "execution_count": 55,
     "metadata": {},
     "output_type": "execute_result"
    }
   ],
   "source": [
    "prob"
   ]
  },
  {
   "cell_type": "code",
   "execution_count": 56,
   "metadata": {
    "collapsed": false
   },
   "outputs": [
    {
     "data": {
      "image/png": "[encoded data removed]",
      "text/plain": [
       "<Figure size 576x396 with 1 Axes>"
      ]
     },
     "metadata": {},
     "output_type": "display_data"
    }
   ],
   "source": [
    "plt.bar(range(6), prob[-1])\n",
    "plt.show()"
   ]
  },
  {
   "cell_type": "code",
   "execution_count": null,
   "metadata": {
    "collapsed": true
   },
   "outputs": [],
   "source": []
  }
 ],
 "metadata": {
  "kernelspec": {
   "display_name": "Python 3",
   "language": "python",
   "name": "python3"
  },
  "language_info": {
   "codemirror_mode": {
    "name": "ipython",
    "version": 3
   },
   "file_extension": ".py",
   "mimetype": "text/x-python",
   "name": "python",
   "nbconvert_exporter": "python",
   "pygments_lexer": "ipython3",
   "version": "3.6.0"
  }
 },
 "nbformat": 4,
 "nbformat_minor": 2
}
