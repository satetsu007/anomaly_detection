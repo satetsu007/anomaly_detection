{
 "cells": [
  {
   "cell_type": "code",
   "execution_count": 1,
   "metadata": {},
   "outputs": [
    {
     "ename": "ModuleNotFoundError",
     "evalue": "No module named 'changefinder'",
     "output_type": "error",
     "traceback": [
      "\u001b[1;31m---------------------------------------------------------------------------\u001b[0m",
      "\u001b[1;31mModuleNotFoundError\u001b[0m                       Traceback (most recent call last)",
      "\u001b[1;32m<ipython-input-1-083bf3fd568d>\u001b[0m in \u001b[0;36m<module>\u001b[1;34m()\u001b[0m\n\u001b[0;32m      1\u001b[0m \u001b[1;32mimport\u001b[0m \u001b[0mnumpy\u001b[0m \u001b[1;32mas\u001b[0m \u001b[0mnp\u001b[0m\u001b[1;33m\u001b[0m\u001b[0m\n\u001b[1;32m----> 2\u001b[1;33m \u001b[1;32mimport\u001b[0m \u001b[0mchangefinder\u001b[0m\u001b[1;33m\u001b[0m\u001b[0m\n\u001b[0m\u001b[0;32m      3\u001b[0m \u001b[1;32mimport\u001b[0m \u001b[0mmatplotlib\u001b[0m\u001b[1;33m.\u001b[0m\u001b[0mpyplot\u001b[0m \u001b[1;32mas\u001b[0m \u001b[0mplt\u001b[0m\u001b[1;33m\u001b[0m\u001b[0m\n\u001b[0;32m      4\u001b[0m \u001b[1;32mimport\u001b[0m \u001b[0mpandas\u001b[0m \u001b[1;32mas\u001b[0m \u001b[0mpd\u001b[0m\u001b[1;33m\u001b[0m\u001b[0m\n\u001b[0;32m      5\u001b[0m \u001b[1;32mimport\u001b[0m \u001b[0mseaborn\u001b[0m \u001b[1;32mas\u001b[0m \u001b[0msns\u001b[0m\u001b[1;33m\u001b[0m\u001b[0m\n",
      "\u001b[1;31mModuleNotFoundError\u001b[0m: No module named 'changefinder'"
     ]
    }
   ],
   "source": [
    "import numpy as np\n",
    "import changefinder\n",
    "import matplotlib.pyplot as plt\n",
    "import pandas as pd\n",
    "import seaborn as sns\n",
    "from IPython.core.display import display\n",
    "%matplotlib inline"
   ]
  },
  {
   "cell_type": "markdown",
   "metadata": {},
   "source": [
    "# ChangeFinder"
   ]
  },
  {
   "cell_type": "markdown",
   "metadata": {},
   "source": [
    "## SDAR"
   ]
  },
  {
   "cell_type": "code",
   "execution_count": null,
   "metadata": {},
   "outputs": [],
   "source": [
    "df_n = pd.read_csv(\"../data/nikkei225_d.csv\")\n",
    "df_uj = pd.read_csv(\"../data/usdjpy_d.csv\")\n",
    "display(df_n.describe())\n",
    "display(df_uj.describe())\n",
    "display(df_n.tail())\n",
    "display(df_uj.tail())"
   ]
  },
  {
   "cell_type": "code",
   "execution_count": null,
   "metadata": {},
   "outputs": [],
   "source": [
    "df_n.columns = [\"Date\", \"n_Open\", \"n_High\", \"n_Low\", \"n_Close\"]\n",
    "df_uj.columns = [\"Date\", \"uj_Open\", \"uj_High\", \"uj_Low\", \"uj_Close\"]\n",
    "df_uj.Date = [i.replace(\"-\", \"/\") for i in df_uj.Date]"
   ]
  },
  {
   "cell_type": "code",
   "execution_count": null,
   "metadata": {},
   "outputs": [],
   "source": [
    "# dfの結合\n",
    "df = df_n.merge(df_uj,how=\"left\")\n",
    "display(df.head())\n",
    "# 欠損部を破棄\n",
    "df = df.dropna()\n",
    "display(df.head())"
   ]
  },
  {
   "cell_type": "code",
   "execution_count": null,
   "metadata": {},
   "outputs": [],
   "source": [
    "data_n = df.n_Close\n",
    "data_n = np.array(data_n)\n",
    "data_uj = df.uj_Close\n",
    "data_uj = np.array(data_uj)"
   ]
  },
  {
   "cell_type": "code",
   "execution_count": null,
   "metadata": {},
   "outputs": [],
   "source": [
    "# 終値の変化点検出\n",
    "cf = changefinder.ChangeFinder(r=0.01, order=3, smooth=7)\n",
    "\n",
    "ret_n = []\n",
    "for i in data_n:\n",
    "    score = cf.update(i)\n",
    "    ret_n.append(score)\n",
    "\n",
    "ret_uj = []\n",
    "for i in data_uj:\n",
    "    score = cf.update(i)\n",
    "    ret_uj.append(score)\n",
    "\n",
    "ret_n = np.array(ret_n)\n",
    "ret_uj = np.array(ret_uj)  "
   ]
  },
  {
   "cell_type": "code",
   "execution_count": null,
   "metadata": {
    "scrolled": false
   },
   "outputs": [],
   "source": [
    "# data_n: ret_n, data_uj: ret_uj\n",
    "fig = plt.figure(figsize=(20, 10))\n",
    "ax = fig.add_subplot(111)\n",
    "ax.plot(ret_n)\n",
    "ax2 = ax.twinx()\n",
    "ax2.plot(data_n,'r')\n",
    "plt.show()\n",
    "\n",
    "fig = plt.figure(figsize=(20, 10))\n",
    "ax = fig.add_subplot(111)\n",
    "ax.plot(ret_uj)\n",
    "ax2 = ax.twinx()\n",
    "ax2.plot(data_uj,'r')\n",
    "plt.show()"
   ]
  },
  {
   "cell_type": "code",
   "execution_count": null,
   "metadata": {},
   "outputs": [],
   "source": [
    "# data_uj: ret_n, data_n: ret_uj\n",
    "fig = plt.figure(figsize=(20, 10))\n",
    "ax = fig.add_subplot(111)\n",
    "ax.plot(ret_n)\n",
    "ax2 = ax.twinx()\n",
    "ax2.plot(data_uj,'r')\n",
    "plt.show()\n",
    "\n",
    "fig = plt.figure(figsize=(20, 10))\n",
    "ax = fig.add_subplot(111)\n",
    "ax.plot(ret_uj)\n",
    "ax2 = ax.twinx()\n",
    "ax2.plot(data_n,'r')\n",
    "plt.show()"
   ]
  },
  {
   "cell_type": "code",
   "execution_count": null,
   "metadata": {},
   "outputs": [],
   "source": [
    "fig = plt.figure(figsize=(20, 10))\n",
    "ax = fig.add_subplot(111)\n",
    "ax.plot(df.n_Close)\n",
    "ax2 = ax.twinx()\n",
    "ax2.plot(df.uj_Close,'r')\n",
    "plt.show()"
   ]
  },
  {
   "cell_type": "raw",
   "metadata": {},
   "source": [
    "df[2992:2995]付近で変化点を検出している"
   ]
  },
  {
   "cell_type": "code",
   "execution_count": null,
   "metadata": {},
   "outputs": [],
   "source": [
    "df.iloc[:, 1:] = (df.iloc[:, 1:] - df.iloc[:, 1:].min()) / (df.iloc[:, 1:].max() - df.iloc[:, 1:].min())"
   ]
  },
  {
   "cell_type": "code",
   "execution_count": null,
   "metadata": {},
   "outputs": [],
   "source": [
    "df.head()"
   ]
  },
  {
   "cell_type": "code",
   "execution_count": null,
   "metadata": {},
   "outputs": [],
   "source": [
    "data_n = df.n_Close\n",
    "data_n = np.array(data_n)\n",
    "data_uj = df.uj_Close\n",
    "data_uj = np.array(data_uj)"
   ]
  },
  {
   "cell_type": "code",
   "execution_count": null,
   "metadata": {},
   "outputs": [],
   "source": [
    "# 終値の変化点検出\n",
    "cf = changefinder.ChangeFinder(r=0.005, order=5, smooth=5)\n",
    "\n",
    "ret_n = []\n",
    "for i in data_n:\n",
    "    score = cf.update(i)\n",
    "    ret_n.append(score)\n",
    "\n",
    "ret_uj = []\n",
    "for i in data_uj:\n",
    "    score = cf.update(i)\n",
    "    ret_uj.append(score)\n",
    "\n",
    "ret_n = np.array(ret_n)\n",
    "ret_uj = np.array(ret_uj)  "
   ]
  },
  {
   "cell_type": "code",
   "execution_count": null,
   "metadata": {},
   "outputs": [],
   "source": [
    "# data_n: ret_n, data_uj: ret_uj\n",
    "fig = plt.figure(figsize=(20, 10))\n",
    "ax = fig.add_subplot(111)\n",
    "ax.plot(ret_n)\n",
    "ax2 = ax.twinx()\n",
    "ax2.plot(data_n,'r')\n",
    "plt.show()\n",
    "\n",
    "fig = plt.figure(figsize=(20, 10))\n",
    "ax = fig.add_subplot(111)\n",
    "ax.plot(ret_uj)\n",
    "ax2 = ax.twinx()\n",
    "ax2.plot(data_uj,'r')\n",
    "plt.show()"
   ]
  },
  {
   "cell_type": "code",
   "execution_count": null,
   "metadata": {},
   "outputs": [],
   "source": [
    "fig = plt.figure(figsize=(20, 10))\n",
    "ax = fig.add_subplot(111)\n",
    "ax.plot(df.n_Close)\n",
    "ax2 = ax.twinx()\n",
    "ax2.plot(df.uj_Close,'r')\n",
    "plt.show()"
   ]
  },
  {
   "cell_type": "code",
   "execution_count": null,
   "metadata": {},
   "outputs": [],
   "source": [
    "df_tmp = df.iloc[2992:]"
   ]
  },
  {
   "cell_type": "code",
   "execution_count": null,
   "metadata": {},
   "outputs": [],
   "source": [
    "sns.pairplot(df_tmp)"
   ]
  },
  {
   "cell_type": "code",
   "execution_count": null,
   "metadata": {},
   "outputs": [],
   "source": [
    "np.corrcoef(df_tmp.n_Close, df_tmp.uj_Close)"
   ]
  },
  {
   "cell_type": "code",
   "execution_count": null,
   "metadata": {},
   "outputs": [],
   "source": [
    "np.corrcoef(df.n_Close, df.uj_Close)"
   ]
  },
  {
   "cell_type": "code",
   "execution_count": null,
   "metadata": {},
   "outputs": [],
   "source": [
    "d = {\"n_ret\":ret_n, \"uj_ret\":ret_uj}\n",
    "df_ret = pd.DataFrame(d, index=df.index)"
   ]
  },
  {
   "cell_type": "code",
   "execution_count": null,
   "metadata": {},
   "outputs": [],
   "source": [
    "df_Close = pd.DataFrame([df_tmp.n_Close, df_tmp.uj_Close]).T"
   ]
  },
  {
   "cell_type": "code",
   "execution_count": null,
   "metadata": {},
   "outputs": [],
   "source": [
    "df_tmp = pd.concat([df, df_ret],axis=1)"
   ]
  },
  {
   "cell_type": "code",
   "execution_count": null,
   "metadata": {
    "scrolled": false
   },
   "outputs": [],
   "source": [
    "fig = plt.figure(figsize=(20, 10))\n",
    "ax = fig.add_subplot(111)\n",
    "ax.plot(df_Close)\n",
    "ax2 = ax.twinx()\n",
    "ax2.plot(df_tmp.n_ret, \"r-\", df_tmp.uj_ret, \"k-\")\n",
    "plt.show()"
   ]
  },
  {
   "cell_type": "code",
   "execution_count": null,
   "metadata": {},
   "outputs": [],
   "source": [
    "np.corrcoef(df_tmp[2990:].n_ret, df_tmp[2990:].uj_ret)"
   ]
  },
  {
   "cell_type": "code",
   "execution_count": null,
   "metadata": {},
   "outputs": [],
   "source": [
    "df_diff = df.iloc[:, 1:] - df.iloc[:, 1:].shift()\n",
    "df_diff = df_diff.dropna()\n",
    "display(df_diff.head())"
   ]
  },
  {
   "cell_type": "code",
   "execution_count": null,
   "metadata": {},
   "outputs": [],
   "source": [
    "plt.figure(figsize=(20, 10))\n",
    "df_diff.n_Close.plot()"
   ]
  },
  {
   "cell_type": "code",
   "execution_count": null,
   "metadata": {
    "scrolled": false
   },
   "outputs": [],
   "source": [
    "plt.figure(figsize=(20, 10))\n",
    "plt.hist(df_diff.uj_Close, bins=100)"
   ]
  },
  {
   "cell_type": "code",
   "execution_count": null,
   "metadata": {},
   "outputs": [],
   "source": []
  }
 ],
 "metadata": {
  "kernelspec": {
   "display_name": "Python 3",
   "language": "python",
   "name": "python3"
  },
  "language_info": {
   "codemirror_mode": {
    "name": "ipython",
    "version": 3
   },
   "file_extension": ".py",
   "mimetype": "text/x-python",
   "name": "python",
   "nbconvert_exporter": "python",
   "pygments_lexer": "ipython3",
   "version": "3.6.4"
  }
 },
 "nbformat": 4,
 "nbformat_minor": 2
}
