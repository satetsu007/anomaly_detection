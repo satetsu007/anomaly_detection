{
 "cells": [
  {
   "cell_type": "markdown",
   "metadata": {},
   "source": [
    "# SmartSifter"
   ]
  },
  {
   "cell_type": "code",
   "execution_count": 1,
   "metadata": {
    "collapsed": true
   },
   "outputs": [],
   "source": [
    "import os\n",
    "import numpy as np\n",
    "import numpy.random  as rd\n",
    "import scipy as sp\n",
    "from scipy import stats as st\n",
    "from collections import Counter\n",
    "import pandas as pd\n",
    "\n",
    "import matplotlib\n",
    "from matplotlib import font_manager\n",
    "import matplotlib.pyplot as plt\n",
    "import matplotlib.cm as cm\n",
    "from matplotlib import rc\n",
    "import matplotlib.animation as ani\n",
    "import random\n",
    "import math\n",
    "plt.rcParams[\"patch.force_edgecolor\"] = True\n",
    "#rc('text', usetex=True)\n",
    "import seaborn as sns\n",
    "sns.set(style=\"whitegrid\", palette=\"muted\", color_codes=True)\n",
    "sns.set_style(\"whitegrid\", {'grid.linestyle': '--'})\n",
    "red = sns.xkcd_rgb[\"light red\"]\n",
    "green = sns.xkcd_rgb[\"medium green\"]\n",
    "blue = sns.xkcd_rgb[\"denim blue\"]\n",
    "%matplotlib inline"
   ]
  },
  {
   "cell_type": "markdown",
   "metadata": {},
   "source": [
    "## SDLEアルゴリズム"
   ]
  },
  {
   "cell_type": "code",
   "execution_count": 2,
   "metadata": {
    "collapsed": false
   },
   "outputs": [],
   "source": [
    "random.seed(0)\n",
    "T = 500\n",
    "x = np.array([math.floor(random.random()*3) for i in range(T)])"
   ]
  },
  {
   "cell_type": "code",
   "execution_count": 3,
   "metadata": {
    "collapsed": false
   },
   "outputs": [
    {
     "data": {
      "image/png": "[encoded data removed]",
      "text/plain": [
       "<Figure size 432x288 with 1 Axes>"
      ]
     },
     "metadata": {},
     "output_type": "display_data"
    }
   ],
   "source": [
    "plt.hist(x, rwidth=0.9)\n",
    "plt.show()"
   ]
  },
  {
   "cell_type": "code",
   "execution_count": 4,
   "metadata": {
    "collapsed": true
   },
   "outputs": [],
   "source": [
    "class SDLE:\n",
    "    def __init__(self, r, beta, M, T):\n",
    "        \"\"\"\n",
    "        \"\"\"\n",
    "        self.r = r\n",
    "        self.beta = beta\n",
    "        self.M = M\n",
    "        self.T = T\n",
    "        \n",
    "        self.count = np.zeros((T+1, M))\n",
    "        self.T_t = np.zeros((T+1, M))\n",
    "        self.prob = np.zeros((T+1, M))\n",
    "        \n",
    "        self.t = 1\n",
    "    \n",
    "    def update(self, x_t):\n",
    "        \"\"\"\n",
    "        オンライン学習\n",
    "        \"\"\"\n",
    "        for i in range(self.M):\n",
    "            delta = 0\n",
    "            if i == x_t:\n",
    "                delta = 1\n",
    "                self.flag = x_t\n",
    "\n",
    "            self.T_t[self.t, i] = (1 - self.r) * self.T_t[self.t-1, i] + delta\n",
    "            self.count[self.t, i] = self.count[self.t-1, i] + delta\n",
    "            if self.r == 0:\n",
    "                q = (self.T_t[self.t, i] + self.beta) / (self.t + self.M * self.beta)\n",
    "                # self.prob[self.t, i] = q / self.count[self.t, i]\n",
    "                # self.prob[self.t, i] = q\n",
    "            else:\n",
    "                q = (self.T_t[self.t, i] + self.beta) / ((1 - (1 - self.r) ** self.t) / self.r + self.M * self.beta)\n",
    "                # self.prob[self.t, i] = q\n",
    "                # self.prob[self.t, i] = q / self.count[self.t, i]\n",
    "            \n",
    "            if not self.count[self.t, i] == 0:\n",
    "                self.prob[self.t, i] = q / self.count[self.t, i]\n",
    "\n",
    "        self.t += 1\n",
    "    \n",
    "    def train(self, x):\n",
    "        \"\"\"\n",
    "        バッチ学習\n",
    "        \"\"\"\n",
    "        while self.t <= self.T:\n",
    "            self.update(x[self.t-1])"
   ]
  },
  {
   "cell_type": "code",
   "execution_count": 5,
   "metadata": {
    "collapsed": true
   },
   "outputs": [],
   "source": [
    "r = 1/T\n",
    "beta = 1\n",
    "M = len(np.unique(x))\n",
    "\n",
    "sdle = SDLE(r, beta, M, T)\n",
    "# print(\"t = %s\" % sdle.t)\n",
    "# print(\"count:\\n\", sdle.count)\n",
    "# print(\"prob:\\n\",sdle.prob)"
   ]
  },
  {
   "cell_type": "code",
   "execution_count": 6,
   "metadata": {
    "collapsed": false
   },
   "outputs": [
    {
     "data": {
      "text/plain": [
       "501"
      ]
     },
     "execution_count": 6,
     "metadata": {},
     "output_type": "execute_result"
    }
   ],
   "source": [
    "sdle.train(x)\n",
    "sdle.t"
   ]
  },
  {
   "cell_type": "code",
   "execution_count": 7,
   "metadata": {
    "collapsed": false
   },
   "outputs": [
    {
     "data": {
      "text/plain": [
       "array([ 0.33403711,  0.32866009,  0.3373028 ])"
      ]
     },
     "execution_count": 7,
     "metadata": {},
     "output_type": "execute_result"
    }
   ],
   "source": [
    "p = sdle.prob[-1] * (1/sdle.prob[-1].sum())\n",
    "p"
   ]
  },
  {
   "cell_type": "code",
   "execution_count": 8,
   "metadata": {
    "collapsed": false
   },
   "outputs": [
    {
     "data": {
      "image/png": "[encoded data removed]",
      "text/plain": [
       "<Figure size 432x288 with 1 Axes>"
      ]
     },
     "metadata": {},
     "output_type": "display_data"
    }
   ],
   "source": [
    "plt.bar(range(3), p)\n",
    "plt.show()"
   ]
  },
  {
   "cell_type": "markdown",
   "metadata": {},
   "source": [
    "## SDEMアルゴリズム"
   ]
  },
  {
   "cell_type": "code",
   "execution_count": 9,
   "metadata": {
    "collapsed": false
   },
   "outputs": [
    {
     "name": "stdout",
     "output_type": "stream",
     "text": [
      "check:  0 [ 0.2  0.5] [[ 0.1    0.085]\n",
      " [ 0.085  0.1  ]] 0.002775\n",
      "check:  1 [ 1.2  0.5] [[ 0.1   -0.085]\n",
      " [-0.085  0.1  ]] 0.002775\n",
      "check:  2 [ 2.   0.5] [[ 0.1    0.085]\n",
      " [ 0.085  0.1  ]] 0.002775\n"
     ]
    },
    {
     "data": {
      "image/png": "[encoded data removed]",
      "text/plain": [
       "<Figure size 864x360 with 1 Axes>"
      ]
     },
     "metadata": {},
     "output_type": "display_data"
    }
   ],
   "source": [
    "seed = 77\n",
    "D = 2\n",
    "n = [200, 150, 150]\n",
    "N = np.sum(n)\n",
    "mu_true = np.asanyarray(\n",
    "     [[0.2, 0.5],\n",
    "      [1.2, 0.5],\n",
    "      [2.0, 0.5]])\n",
    "\n",
    "D = mu_true.shape[1]\n",
    "\n",
    "sigma_true = np.asanyarray(\n",
    "        [ [[0.1,  0.085],[ 0.085, 0.1]],\n",
    "          [[0.1, -0.085],[-0.085, 0.1]],\n",
    "          [[0.1,  0.085],[ 0.085, 0.1]]\n",
    "        ])\n",
    "c = ['r', 'g', 'b']\n",
    "\n",
    "rd.seed(seed)\n",
    "org_data = None #np.empty((np.sum(n), 3))\n",
    "for i in range(3):\n",
    "    print(\"check: \", i, mu_true[i], sigma_true[i], np.linalg.det(sigma_true[i]))\n",
    "    #org_data.append(st.multivariate_normal.rvs(mean=mu[i], cov=sigma[i], size=n[i]))\n",
    "    if org_data is None:\n",
    "        org_data = np.c_[st.multivariate_normal.rvs(mean=mu_true[i], cov=sigma_true[i], size=n[i]), np.ones(n[i])*i]\n",
    "    else:\n",
    "        org_data = np.r_[org_data, np.c_[st.multivariate_normal.rvs(mean=mu_true[i], \n",
    "                                                                    cov=sigma_true[i], \n",
    "                                                                    size=n[i]), np.ones(n[i])*i]]\n",
    "        \n",
    "# plot generated data        \n",
    "plt.figure(figsize=(12, 5))\n",
    "for i in range(3):\n",
    "    plt.scatter(org_data[org_data[:,2]==i][:,0], org_data[org_data[:,2]==i][:,1], s=30, c=c[i], alpha=0.5)\n",
    "    \n",
    "# drop true cluster label\n",
    "data = org_data[:,0:2].copy()"
   ]
  },
  {
   "cell_type": "code",
   "execution_count": 10,
   "metadata": {
    "collapsed": true
   },
   "outputs": [],
   "source": [
    "class SDEM:\n",
    "    def __init__(self, r, alpha, k, T, d):\n",
    "        \"\"\"\n",
    "        \"\"\"\n",
    "        self.r = r\n",
    "        self.alpha = alpha\n",
    "        self.k = k\n",
    "        self.T = T+1\n",
    "        self.d = d\n",
    "        \n",
    "        self.prob = np.zeros((self.T, self.k))\n",
    "        self.mu = np.zeros((self.T, self.k, self.d))\n",
    "        self.mu_ = np.zeros((self.T, self.k, self.d))\n",
    "        self.pi = np.zeros((self.T, self.k))\n",
    "        self.sigma = np.zeros((self.T, self.k, self.d, self.d))\n",
    "        self.sigma_ = np.zeros((self.T, self.k, self.d, self.d))\n",
    "        \n",
    "        for i in range(self.k):\n",
    "            self.pi[0, i] = 1 / self.k\n",
    "            self.mu[0, i] = np.random.uniform(size=2)\n",
    "            self.mu_[0, i] = self.mu[0, i] * self.pi[0, i]\n",
    "            mu_tmp = self.mu[0, i].reshape((self.d, 1))\n",
    "            self.sigma[0, i] = np.identity(self.d)# * 0.1\n",
    "            self.sigma_[0, i] = (self.sigma[0, i] + np.dot(mu_tmp, mu_tmp.T)) * self.pi[0, i]\n",
    "        self.t = 1\n",
    "    \n",
    "    def calc_prob(self, idy, pi, mu, sigma):\n",
    "        p_ = np.zeros(self.k)\n",
    "        p = np.zeros(self.k)\n",
    "        for i in range(self.k):\n",
    "            p[i] = st.multivariate_normal.pdf(idy, mu[i], sigma[i])\n",
    "            p_[i] = pi[i]*p[i]\n",
    "        return p, p_\n",
    "    \n",
    "    def update(self, idy):\n",
    "        \"\"\"\n",
    "        \"\"\"\n",
    "        t = self.t\n",
    "        for i in range(self.k):\n",
    "            _, p_ = self.calc_prob(idy, self.pi[t-1], self.mu[t-1], self.sigma[t-1])\n",
    "            gamma = ((1 - self.alpha * self.r) * (p_[i] / np.sum(p_))) + ((self.alpha * self.r) / self.k)\n",
    "            \n",
    "            self.pi[t, i] = ((1 - self.r) * self.pi[t-1, i]) + (self.r * gamma)\n",
    "            self.mu_[t, i] = ((1 - self.r) * self.mu_[t-1, i]) + ((self.r * gamma) * idy)\n",
    "            self.mu[t, i] = self.mu_[t, i] / self.pi[t, i]\n",
    "            \n",
    "            idy_tmp = idy.reshape((self.d, 1))\n",
    "            mu_tmp = self.mu[t, i].reshape((self.d, 1))\n",
    "            \n",
    "            self.sigma_[t, i] = ((1 - self.r) * self.sigma_[t-1, i]) + ((self.r * gamma) * np.dot(idy_tmp, idy_tmp.T))\n",
    "            self.sigma[t, i] = (self.sigma_[t, i] / self.pi[t, i]) - np.dot(mu_tmp, mu_tmp.T)\n",
    "        p, _ = self.calc_prob(idy, self.pi[t], self.mu[t], self.sigma[t])\n",
    "        self.prob[t] = p\n",
    "            \n",
    "        self.t += 1\n",
    "        \n",
    "    def skip(self):\n",
    "        t = self.t\n",
    "        for i in range(self.k):\n",
    "            self.pi[t, i] = self.pi[t-1, i]\n",
    "            self.mu[t, i] = self.mu[t-1, i]\n",
    "            self.mu_[t, i] = self.mu_[t-1, i]\n",
    "            self.sigma[t, i] = self.sigma[t-1, i]\n",
    "            self.sigma_[t, i] = self.sigma_[t-1, i]\n",
    "            self.prob[t] = self.prob[t-i, i]\n",
    "        self.t += 1\n",
    "    \n",
    "    def train(self, y):\n",
    "        \"\"\"\n",
    "        バッチ学習\n",
    "        \"\"\"\n",
    "        while self.t < self.T:\n",
    "            self.update(y[self.t-1])"
   ]
  },
  {
   "cell_type": "code",
   "execution_count": 11,
   "metadata": {
    "collapsed": false
   },
   "outputs": [],
   "source": [
    "alpha = 1.0\n",
    "k = 3\n",
    "T = data.shape[0]\n",
    "d = data.shape[1]\n",
    "r = 1/T\n",
    "\n",
    "sdem = SDEM(r, alpha, k, T, d)"
   ]
  },
  {
   "cell_type": "code",
   "execution_count": 12,
   "metadata": {
    "collapsed": false,
    "scrolled": true
   },
   "outputs": [],
   "source": [
    "sdem.train(data)\n",
    "#for j in range(30):\n",
    "#    for i in range(500):\n",
    "#        sdem.update(data[i])\n",
    "#    sdem.t = 1"
   ]
  },
  {
   "cell_type": "code",
   "execution_count": 13,
   "metadata": {
    "collapsed": false
   },
   "outputs": [
    {
     "data": {
      "image/png": "[encoded data removed]",
      "text/plain": [
       "<Figure size 864x360 with 1 Axes>"
      ]
     },
     "metadata": {},
     "output_type": "display_data"
    }
   ],
   "source": [
    "# plot generated data        \n",
    "plt.figure(figsize=(12, 5))\n",
    "for i in range(3):\n",
    "    plt.scatter(org_data[org_data[:,2]==i][:,0], org_data[org_data[:,2]==i][:,1], s=30, c=c[i], alpha=0.1)\n",
    "#c_ = [\"c\", \"m\", \"y\"]\n",
    "for i in range(3):\n",
    "    plt.scatter(sdem.mu[-1, i, 0], sdem.mu[-1, i, 1], s=50, c=c[i])"
   ]
  },
  {
   "cell_type": "code",
   "execution_count": 14,
   "metadata": {
    "collapsed": false
   },
   "outputs": [],
   "source": [
    "x = x.reshape((500, 1))\n",
    "y = data.copy()\n",
    "Z = np.concatenate((x, y), axis=1)\n",
    "Z = Z\n",
    "# x\n",
    "# X[:, 0]\n",
    "# y\n",
    "# X[:, 1:]"
   ]
  },
  {
   "cell_type": "code",
   "execution_count": 15,
   "metadata": {
    "collapsed": false
   },
   "outputs": [],
   "source": [
    "def hellinger_distance(mu, sigma, mu_prev, sigma_prev):\n",
    "    mu = mu.reshape((mu.shape[0], 1))\n",
    "    mu_prev = mu_prev.reshape((mu_prev.shape[0], 1))\n",
    "    \n",
    "    d_h = -(2*np.linalg.det((np.linalg.inv(sigma) + np.linalg.inv(sigma_prev))/2)**(-1/2))/(np.linalg.det(sigma)**(1/4)*np.linalg.det(sigma_prev)**(1/4))\n",
    "    \n",
    "    tmp = np.exp((1/2)*np.dot(np.dot(np.dot(np.linalg.inv(sigma), mu) + np.dot(np.linalg.inv(sigma_prev), mu_prev).T, \n",
    "                              np.linalg.inv(np.linalg.inv(sigma)+np.linalg.inv(sigma_prev))),\n",
    "                              np.dot(np.linalg.inv(sigma), mu + np.dot(np.linalg.inv(sigma_prev), mu_prev).T)))\n",
    "    d_h *= np.exp(-(1/2)*(np.dot(np.dot(mu.T, np.linalg.inv(sigma)), mu) + np.dot(np.dot(mu_prev.T, np.linalg.inv(sigma_prev)), mu_prev)))\n",
    "    d_h += 2\n",
    "    return d_h\n",
    "\n",
    "def calc_hellinger_distance(pi, pi_prev, mu, sigma, mu_prev, sigma_prev, k):\n",
    "    d_H = 0\n",
    "    for i in range(k):\n",
    "        d_h = hellinger_distance(mu[i], sigma[i], mu_prev[i], sigma_prev[i])\n",
    "        d_H += (pi[i] + pi_prev[i])/2 * d_h\n",
    "    tmp = 0\n",
    "    for i in range(k):\n",
    "        tmp += np.sqrt(pi[i]) - np.sqrt(pi_prev[i]) ** 2\n",
    "    d_H += tmp \n",
    "    return d_H\n",
    "\n",
    "def calc_hellinger_score(p, p_prev, sdem, r, k, M):\n",
    "    S_H = 0\n",
    "    for m in range(M):\n",
    "        d_H = calc_hellinger_distance(sdem[m].pi[sdem[m].t-1], sdem[m].pi[sdem[m].t-2] ,sdem[m].mu[sdem[m].t-1],\n",
    "                                      sdem[m].sigma[sdem[m].t-1], sdem[m].mu[sdem[m].t-2], sdem[m].sigma[sdem[m].t-2], k)\n",
    "        S_H += np.sqrt(p[m] * p_prev[m]) * d_H\n",
    "    tmp = 0\n",
    "    for m in range(M):\n",
    "        tmp += np.sqrt(p[m] * p_prev[m])\n",
    "    tmp *= 2\n",
    "    S_H += 2 - tmp\n",
    "    S_H /= r**2\n",
    "    \n",
    "    return S_H"
   ]
  },
  {
   "cell_type": "code",
   "execution_count": 16,
   "metadata": {
    "collapsed": false
   },
   "outputs": [
    {
     "name": "stderr",
     "output_type": "stream",
     "text": [
      "/Users/satetsu/anaconda/lib/python3.6/site-packages/ipykernel/__main__.py:39: RuntimeWarning: divide by zero encountered in log\n",
      "/Users/satetsu/anaconda/lib/python3.6/site-packages/ipykernel/__main__.py:9: RuntimeWarning: overflow encountered in exp\n"
     ]
    }
   ],
   "source": [
    "# パラメータ設定\n",
    "alpha = 1.0\n",
    "k = 3\n",
    "T = data.shape[0]\n",
    "d = data.shape[1]\n",
    "r = 1/T * 100\n",
    "beta = 1\n",
    "M = len(np.unique(x))\n",
    "\n",
    "# オブジェクトの初期化\n",
    "sdle = SDLE(r, beta, M, T)\n",
    "sdem = [SDEM(r, alpha, k, T, d) for i in range(M)]\n",
    "\n",
    "# 同時確率\n",
    "p = []\n",
    "# ヘリンジャースコア\n",
    "S_H = []\n",
    "# 対数損失\n",
    "S_L = []\n",
    "\n",
    "for i, z in enumerate(Z):\n",
    "    sdle.update(z[0])\n",
    "    # 各セルに対応する混合ガウス分布を推定\n",
    "    for m in range(sdle.M):\n",
    "        if m == int(sdle.flag):\n",
    "            sdem[m].update(z[1:])\n",
    "        else:\n",
    "            sdem[m].skip()\n",
    "        # tmp: p(y|x)\n",
    "        tmp = np.dot(sdem[m].prob[sdem[m].t-1],sdem[m].pi[sdem[m].t-1])\n",
    "    if i == 0:\n",
    "        p_prev = 0\n",
    "    else:\n",
    "        p_prev = p[-1]\n",
    "    p_t = tmp * sdle.prob[sdle.t-1, int(sdle.flag)]\n",
    "    p.append(p_t)\n",
    "    s_h = calc_hellinger_score(sdle.prob[sdle.t-1], sdle.prob[sdle.t-2], sdem, sdle.r, k, sdle.M)\n",
    "    S_H.append(float(s_h))\n",
    "    s_l = -np.log(p_prev)\n",
    "    S_L.append(s_l)"
   ]
  },
  {
   "cell_type": "code",
   "execution_count": 17,
   "metadata": {
    "collapsed": false
   },
   "outputs": [
    {
     "data": {
      "text/html": [
       "<div>\n",
       "<table border=\"1\" class=\"dataframe\">\n",
       "  <thead>\n",
       "    <tr style=\"text-align: right;\">\n",
       "      <th></th>\n",
       "      <th>x</th>\n",
       "      <th>y1</th>\n",
       "      <th>y2</th>\n",
       "      <th>S_L</th>\n",
       "      <th>S_H</th>\n",
       "    </tr>\n",
       "  </thead>\n",
       "  <tbody>\n",
       "    <tr>\n",
       "      <th>count</th>\n",
       "      <td>500.000000</td>\n",
       "      <td>500.000000</td>\n",
       "      <td>500.000000</td>\n",
       "      <td>500.000000</td>\n",
       "      <td>500.000000</td>\n",
       "    </tr>\n",
       "    <tr>\n",
       "      <th>mean</th>\n",
       "      <td>1.052000</td>\n",
       "      <td>1.050635</td>\n",
       "      <td>0.517474</td>\n",
       "      <td>inf</td>\n",
       "      <td>50.229632</td>\n",
       "    </tr>\n",
       "    <tr>\n",
       "      <th>std</th>\n",
       "      <td>0.806596</td>\n",
       "      <td>0.808756</td>\n",
       "      <td>0.321666</td>\n",
       "      <td>NaN</td>\n",
       "      <td>0.760472</td>\n",
       "    </tr>\n",
       "    <tr>\n",
       "      <th>min</th>\n",
       "      <td>0.000000</td>\n",
       "      <td>-0.829006</td>\n",
       "      <td>-0.350895</td>\n",
       "      <td>1.952571</td>\n",
       "      <td>40.863968</td>\n",
       "    </tr>\n",
       "    <tr>\n",
       "      <th>25%</th>\n",
       "      <td>0.000000</td>\n",
       "      <td>0.343874</td>\n",
       "      <td>0.306160</td>\n",
       "      <td>3.742302</td>\n",
       "      <td>50.127426</td>\n",
       "    </tr>\n",
       "    <tr>\n",
       "      <th>50%</th>\n",
       "      <td>1.000000</td>\n",
       "      <td>1.059828</td>\n",
       "      <td>0.506927</td>\n",
       "      <td>4.442365</td>\n",
       "      <td>50.198926</td>\n",
       "    </tr>\n",
       "    <tr>\n",
       "      <th>75%</th>\n",
       "      <td>2.000000</td>\n",
       "      <td>1.781353</td>\n",
       "      <td>0.725453</td>\n",
       "      <td>5.125215</td>\n",
       "      <td>50.403359</td>\n",
       "    </tr>\n",
       "    <tr>\n",
       "      <th>max</th>\n",
       "      <td>2.000000</td>\n",
       "      <td>2.979137</td>\n",
       "      <td>1.586933</td>\n",
       "      <td>inf</td>\n",
       "      <td>51.351273</td>\n",
       "    </tr>\n",
       "  </tbody>\n",
       "</table>\n",
       "</div>"
      ],
      "text/plain": [
       "                x          y1          y2         S_L         S_H\n",
       "count  500.000000  500.000000  500.000000  500.000000  500.000000\n",
       "mean     1.052000    1.050635    0.517474         inf   50.229632\n",
       "std      0.806596    0.808756    0.321666         NaN    0.760472\n",
       "min      0.000000   -0.829006   -0.350895    1.952571   40.863968\n",
       "25%      0.000000    0.343874    0.306160    3.742302   50.127426\n",
       "50%      1.000000    1.059828    0.506927    4.442365   50.198926\n",
       "75%      2.000000    1.781353    0.725453    5.125215   50.403359\n",
       "max      2.000000    2.979137    1.586933         inf   51.351273"
      ]
     },
     "execution_count": 17,
     "metadata": {},
     "output_type": "execute_result"
    }
   ],
   "source": [
    "df = pd.DataFrame(Z)\n",
    "df.columns = [\"x\", \"y1\", \"y2\"]\n",
    "df_S_L = pd.DataFrame(S_L)\n",
    "df_S_H = pd.DataFrame(S_H)\n",
    "df_S_L.columns = [\"S_L\"]\n",
    "df_S_H.columns = [\"S_H\"]\n",
    "df = pd.concat([df, df_S_L, df_S_H], axis=1)\n",
    "#df = df[1:]\n",
    "df.describe()"
   ]
  },
  {
   "cell_type": "code",
   "execution_count": 18,
   "metadata": {
    "collapsed": false,
    "scrolled": true
   },
   "outputs": [
    {
     "name": "stderr",
     "output_type": "stream",
     "text": [
      "/Users/satetsu/anaconda/lib/python3.6/site-packages/ipykernel/__main__.py:1: FutureWarning: sort(columns=....) is deprecated, use sort_values(by=.....)\n",
      "  if __name__ == '__main__':\n"
     ]
    },
    {
     "data": {
      "text/html": [
       "<div>\n",
       "<table border=\"1\" class=\"dataframe\">\n",
       "  <thead>\n",
       "    <tr style=\"text-align: right;\">\n",
       "      <th></th>\n",
       "      <th>x</th>\n",
       "      <th>y1</th>\n",
       "      <th>y2</th>\n",
       "      <th>S_L</th>\n",
       "      <th>S_H</th>\n",
       "    </tr>\n",
       "  </thead>\n",
       "  <tbody>\n",
       "    <tr>\n",
       "      <th>0</th>\n",
       "      <td>2.0</td>\n",
       "      <td>0.074447</td>\n",
       "      <td>0.489028</td>\n",
       "      <td>inf</td>\n",
       "      <td>50.000000</td>\n",
       "    </tr>\n",
       "    <tr>\n",
       "      <th>355</th>\n",
       "      <td>0.0</td>\n",
       "      <td>1.944505</td>\n",
       "      <td>0.710984</td>\n",
       "      <td>13.697180</td>\n",
       "      <td>50.147208</td>\n",
       "    </tr>\n",
       "    <tr>\n",
       "      <th>357</th>\n",
       "      <td>2.0</td>\n",
       "      <td>1.948221</td>\n",
       "      <td>0.194424</td>\n",
       "      <td>13.655681</td>\n",
       "      <td>50.145401</td>\n",
       "    </tr>\n",
       "    <tr>\n",
       "      <th>211</th>\n",
       "      <td>2.0</td>\n",
       "      <td>1.092333</td>\n",
       "      <td>0.567220</td>\n",
       "      <td>12.660506</td>\n",
       "      <td>50.246157</td>\n",
       "    </tr>\n",
       "    <tr>\n",
       "      <th>209</th>\n",
       "      <td>0.0</td>\n",
       "      <td>0.649767</td>\n",
       "      <td>1.098103</td>\n",
       "      <td>12.644290</td>\n",
       "      <td>50.246045</td>\n",
       "    </tr>\n",
       "  </tbody>\n",
       "</table>\n",
       "</div>"
      ],
      "text/plain": [
       "       x        y1        y2        S_L        S_H\n",
       "0    2.0  0.074447  0.489028        inf  50.000000\n",
       "355  0.0  1.944505  0.710984  13.697180  50.147208\n",
       "357  2.0  1.948221  0.194424  13.655681  50.145401\n",
       "211  2.0  1.092333  0.567220  12.660506  50.246157\n",
       "209  0.0  0.649767  1.098103  12.644290  50.246045"
      ]
     },
     "execution_count": 18,
     "metadata": {},
     "output_type": "execute_result"
    }
   ],
   "source": [
    "df.sort(columns=\"S_L\",ascending=False).head()"
   ]
  },
  {
   "cell_type": "code",
   "execution_count": 19,
   "metadata": {
    "collapsed": false
   },
   "outputs": [
    {
     "name": "stderr",
     "output_type": "stream",
     "text": [
      "/Users/satetsu/anaconda/lib/python3.6/site-packages/ipykernel/__main__.py:1: FutureWarning: sort(columns=....) is deprecated, use sort_values(by=.....)\n",
      "  if __name__ == '__main__':\n"
     ]
    },
    {
     "data": {
      "text/html": [
       "<div>\n",
       "<table border=\"1\" class=\"dataframe\">\n",
       "  <thead>\n",
       "    <tr style=\"text-align: right;\">\n",
       "      <th></th>\n",
       "      <th>x</th>\n",
       "      <th>y1</th>\n",
       "      <th>y2</th>\n",
       "      <th>S_L</th>\n",
       "      <th>S_H</th>\n",
       "    </tr>\n",
       "  </thead>\n",
       "  <tbody>\n",
       "    <tr>\n",
       "      <th>27</th>\n",
       "      <td>1.0</td>\n",
       "      <td>-0.001934</td>\n",
       "      <td>0.441918</td>\n",
       "      <td>3.449248</td>\n",
       "      <td>51.351273</td>\n",
       "    </tr>\n",
       "    <tr>\n",
       "      <th>26</th>\n",
       "      <td>1.0</td>\n",
       "      <td>0.388718</td>\n",
       "      <td>0.577588</td>\n",
       "      <td>2.354560</td>\n",
       "      <td>51.343725</td>\n",
       "    </tr>\n",
       "    <tr>\n",
       "      <th>31</th>\n",
       "      <td>2.0</td>\n",
       "      <td>0.312179</td>\n",
       "      <td>0.719204</td>\n",
       "      <td>3.311352</td>\n",
       "      <td>51.272766</td>\n",
       "    </tr>\n",
       "    <tr>\n",
       "      <th>28</th>\n",
       "      <td>2.0</td>\n",
       "      <td>-0.118374</td>\n",
       "      <td>0.157786</td>\n",
       "      <td>2.551697</td>\n",
       "      <td>51.259171</td>\n",
       "    </tr>\n",
       "    <tr>\n",
       "      <th>20</th>\n",
       "      <td>0.0</td>\n",
       "      <td>0.355308</td>\n",
       "      <td>0.476549</td>\n",
       "      <td>3.005316</td>\n",
       "      <td>51.239378</td>\n",
       "    </tr>\n",
       "  </tbody>\n",
       "</table>\n",
       "</div>"
      ],
      "text/plain": [
       "      x        y1        y2       S_L        S_H\n",
       "27  1.0 -0.001934  0.441918  3.449248  51.351273\n",
       "26  1.0  0.388718  0.577588  2.354560  51.343725\n",
       "31  2.0  0.312179  0.719204  3.311352  51.272766\n",
       "28  2.0 -0.118374  0.157786  2.551697  51.259171\n",
       "20  0.0  0.355308  0.476549  3.005316  51.239378"
      ]
     },
     "execution_count": 19,
     "metadata": {},
     "output_type": "execute_result"
    }
   ],
   "source": [
    "df.sort(columns=\"S_H\",ascending=False).head()"
   ]
  },
  {
   "cell_type": "code",
   "execution_count": null,
   "metadata": {
    "collapsed": true
   },
   "outputs": [],
   "source": []
  }
 ],
 "metadata": {
  "kernelspec": {
   "display_name": "Python 3",
   "language": "python",
   "name": "python3"
  },
  "language_info": {
   "codemirror_mode": {
    "name": "ipython",
    "version": 3
   },
   "file_extension": ".py",
   "mimetype": "text/x-python",
   "name": "python",
   "nbconvert_exporter": "python",
   "pygments_lexer": "ipython3",
   "version": "3.6.0"
  }
 },
 "nbformat": 4,
 "nbformat_minor": 2
}
