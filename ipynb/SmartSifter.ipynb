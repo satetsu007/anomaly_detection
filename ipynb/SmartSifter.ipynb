{
 "cells": [
  {
   "cell_type": "markdown",
   "metadata": {},
   "source": [
    "# SmartSifter"
   ]
  },
  {
   "cell_type": "code",
   "execution_count": 1,
   "metadata": {
    "collapsed": true
   },
   "outputs": [],
   "source": [
    "import numpy as np\n",
    "import pandas as pd\n",
    "import random\n",
    "import matplotlib.pyplot as plt\n",
    "import math\n",
    "import seaborn as sns"
   ]
  },
  {
   "cell_type": "markdown",
   "metadata": {},
   "source": [
    "## SDLEアルゴリズム"
   ]
  },
  {
   "cell_type": "code",
   "execution_count": 37,
   "metadata": {
    "collapsed": false
   },
   "outputs": [],
   "source": [
    "random.seed(0)\n",
    "T = 100000\n",
    "x = np.array([math.floor(random.random()*6) for i in range(T)])"
   ]
  },
  {
   "cell_type": "code",
   "execution_count": 38,
   "metadata": {
    "collapsed": false
   },
   "outputs": [
    {
     "data": {
      "image/png": "[encoded data removed]",
      "text/plain": [
       "<Figure size 576x396 with 1 Axes>"
      ]
     },
     "metadata": {},
     "output_type": "display_data"
    }
   ],
   "source": [
    "plt.hist(x, rwidth=0.9)\n",
    "plt.show()"
   ]
  },
  {
   "cell_type": "code",
   "execution_count": 50,
   "metadata": {
    "collapsed": true
   },
   "outputs": [],
   "source": [
    "class SDLE:\n",
    "    def __init__(self, r, beta, M, T):\n",
    "        \"\"\"\n",
    "        \"\"\"\n",
    "        self.r = r\n",
    "        self.beta = beta\n",
    "        self.M = M\n",
    "        self.t = 1\n",
    "        self.count = np.zeros((T+1, M))\n",
    "        self.T_t = np.zeros((T+1, M))\n",
    "        self.T = T\n",
    "        self.prob = np.zeros((T+1, M))\n",
    "    \n",
    "    def update(self, x_t):\n",
    "        \"\"\"\n",
    "        オンライン学習\n",
    "        \"\"\"\n",
    "        for i in range(self.M):\n",
    "            delta = 0\n",
    "            if i == x_t:\n",
    "                delta = 1\n",
    "\n",
    "            self.T_t[self.t, i] = (1 - self.r) * self.T_t[self.t-1, i] + delta\n",
    "            self.count[self.t, i] = self.count[self.t-1, i] + delta\n",
    "            if self.r == 0:\n",
    "                q = (self.T_t[self.t, i] + self.beta) / (self.t + self.M * self.beta)\n",
    "                # self.prob[self.t, i] = q / self.count[self.t, i]\n",
    "                # self.prob[self.t, i] = q\n",
    "            else:\n",
    "                q = (self.T_t[self.t, i] + self.beta) / ((1 - (1 - self.r) ** self.t) / self.r + self.M * self.beta)\n",
    "                # self.prob[self.t, i] = q\n",
    "                # self.prob[self.t, i] = q / self.count[self.t, i]\n",
    "            \n",
    "            if not self.count[self.t, i] == 0:\n",
    "                self.prob[self.t, i] = q / self.count[self.t, i]\n",
    "\n",
    "        self.t += 1\n",
    "    \n",
    "    def train(self, x):\n",
    "        \"\"\"\n",
    "        バッチ学習\n",
    "        \"\"\"\n",
    "        while self.t <= self.T:\n",
    "            self.update(x[self.t-1])"
   ]
  },
  {
   "cell_type": "code",
   "execution_count": 51,
   "metadata": {
    "collapsed": true
   },
   "outputs": [],
   "source": [
    "r = 0.1\n",
    "beta = 1\n",
    "M = len(np.unique(x))\n",
    "\n",
    "sdle = SDLE(r, beta, M, T)\n",
    "# print(\"t = %s\" % sdle.t)\n",
    "# print(\"count:\\n\", sdle.count)\n",
    "# print(\"prob:\\n\",sdle.prob)"
   ]
  },
  {
   "cell_type": "code",
   "execution_count": 52,
   "metadata": {
    "collapsed": false
   },
   "outputs": [],
   "source": [
    "sdle.train(x)\n",
    "# for idx in x:\n",
    "#     sdle.update(idx)"
   ]
  },
  {
   "cell_type": "code",
   "execution_count": 53,
   "metadata": {
    "collapsed": false
   },
   "outputs": [
    {
     "data": {
      "text/plain": [
       "array([ 0.23835192,  0.09524788,  0.17722938,  0.18422095,  0.15866785,\n",
       "        0.14628202])"
      ]
     },
     "execution_count": 53,
     "metadata": {},
     "output_type": "execute_result"
    }
   ],
   "source": [
    "p = sdle.prob[-1] * (1/sdle.prob[-1].sum())\n",
    "p"
   ]
  },
  {
   "cell_type": "code",
   "execution_count": 54,
   "metadata": {
    "collapsed": false
   },
   "outputs": [
    {
     "data": {
      "image/png": "[encoded data removed]",
      "text/plain": [
       "<Figure size 576x396 with 1 Axes>"
      ]
     },
     "metadata": {},
     "output_type": "display_data"
    }
   ],
   "source": [
    "plt.bar(range(6), p)\n",
    "plt.show()"
   ]
  },
  {
   "cell_type": "markdown",
   "metadata": {},
   "source": [
    "## SDEMアルゴリズム"
   ]
  },
  {
   "cell_type": "code",
   "execution_count": null,
   "metadata": {
    "collapsed": true
   },
   "outputs": [],
   "source": []
  }
 ],
 "metadata": {
  "kernelspec": {
   "display_name": "Python 3",
   "language": "python",
   "name": "python3"
  },
  "language_info": {
   "codemirror_mode": {
    "name": "ipython",
    "version": 3
   },
   "file_extension": ".py",
   "mimetype": "text/x-python",
   "name": "python",
   "nbconvert_exporter": "python",
   "pygments_lexer": "ipython3",
   "version": "3.6.0"
  }
 },
 "nbformat": 4,
 "nbformat_minor": 2
}
