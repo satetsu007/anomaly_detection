{
 "cells": [
  {
   "cell_type": "markdown",
   "metadata": {},
   "source": [
    "# SmartSifter"
   ]
  },
  {
   "cell_type": "code",
   "execution_count": 48,
   "metadata": {},
   "outputs": [],
   "source": [
    "import numpy as np\n",
    "import pandas as pd\n",
    "import random\n",
    "import matplotlib.pyplot as plt\n",
    "import math\n",
    "import seaborn as sns\n",
    "from scipy import stats as st"
   ]
  },
  {
   "cell_type": "markdown",
   "metadata": {},
   "source": [
    "## SDLEアルゴリズム"
   ]
  },
  {
   "cell_type": "code",
   "execution_count": 2,
   "metadata": {},
   "outputs": [],
   "source": [
    "random.seed(0)\n",
    "T = 100000\n",
    "x = np.array([math.floor(random.random()*6) for i in range(T)])"
   ]
  },
  {
   "cell_type": "code",
   "execution_count": 3,
   "metadata": {},
   "outputs": [
    {
     "data": {
      "image/png": "[encoded data removed]",
      "text/plain": [
       "<matplotlib.figure.Figure at 0x11830a7b8>"
      ]
     },
     "metadata": {},
     "output_type": "display_data"
    }
   ],
   "source": [
    "plt.hist(x, rwidth=0.9)\n",
    "plt.show()"
   ]
  },
  {
   "cell_type": "code",
   "execution_count": 4,
   "metadata": {},
   "outputs": [],
   "source": [
    "class SDLE:\n",
    "    def __init__(self, r, beta, M, T):\n",
    "        \"\"\"\n",
    "        \"\"\"\n",
    "        self.r = r\n",
    "        self.beta = beta\n",
    "        self.M = M\n",
    "        self.T = T\n",
    "        \n",
    "        self.count = np.zeros((T+1, M))\n",
    "        self.T_t = np.zeros((T+1, M))\n",
    "        self.prob = np.zeros((T+1, M))\n",
    "        \n",
    "        self.t = 1\n",
    "    \n",
    "    def update(self, x_t):\n",
    "        \"\"\"\n",
    "        オンライン学習\n",
    "        \"\"\"\n",
    "        for i in range(self.M):\n",
    "            delta = 0\n",
    "            if i == x_t:\n",
    "                delta = 1\n",
    "\n",
    "            self.T_t[self.t, i] = (1 - self.r) * self.T_t[self.t-1, i] + delta\n",
    "            self.count[self.t, i] = self.count[self.t-1, i] + delta\n",
    "            if self.r == 0:\n",
    "                q = (self.T_t[self.t, i] + self.beta) / (self.t + self.M * self.beta)\n",
    "                # self.prob[self.t, i] = q / self.count[self.t, i]\n",
    "                # self.prob[self.t, i] = q\n",
    "            else:\n",
    "                q = (self.T_t[self.t, i] + self.beta) / ((1 - (1 - self.r) ** self.t) / self.r + self.M * self.beta)\n",
    "                # self.prob[self.t, i] = q\n",
    "                # self.prob[self.t, i] = q / self.count[self.t, i]\n",
    "            \n",
    "            if not self.count[self.t, i] == 0:\n",
    "                self.prob[self.t, i] = q / self.count[self.t, i]\n",
    "\n",
    "        self.t += 1\n",
    "    \n",
    "    def train(self, x):\n",
    "        \"\"\"\n",
    "        バッチ学習\n",
    "        \"\"\"\n",
    "        while self.t <= self.T:\n",
    "            self.update(x[self.t-1])"
   ]
  },
  {
   "cell_type": "code",
   "execution_count": 5,
   "metadata": {},
   "outputs": [],
   "source": [
    "r = 0.1\n",
    "beta = 1\n",
    "M = len(np.unique(x))\n",
    "\n",
    "sdle = SDLE(r, beta, M, T)\n",
    "# print(\"t = %s\" % sdle.t)\n",
    "# print(\"count:\\n\", sdle.count)\n",
    "# print(\"prob:\\n\",sdle.prob)"
   ]
  },
  {
   "cell_type": "code",
   "execution_count": 6,
   "metadata": {},
   "outputs": [],
   "source": [
    "sdle.train(x)\n",
    "# for idx in x:\n",
    "#     sdle.update(idx)"
   ]
  },
  {
   "cell_type": "code",
   "execution_count": 7,
   "metadata": {},
   "outputs": [
    {
     "data": {
      "text/plain": [
       "array([ 0.23835192,  0.09524788,  0.17722938,  0.18422095,  0.15866785,\n",
       "        0.14628202])"
      ]
     },
     "execution_count": 7,
     "metadata": {},
     "output_type": "execute_result"
    }
   ],
   "source": [
    "p = sdle.prob[-1] * (1/sdle.prob[-1].sum())\n",
    "p"
   ]
  },
  {
   "cell_type": "code",
   "execution_count": 8,
   "metadata": {},
   "outputs": [
    {
     "data": {
      "image/png": "[encoded data removed]",
      "text/plain": [
       "<matplotlib.figure.Figure at 0x11833f5c0>"
      ]
     },
     "metadata": {},
     "output_type": "display_data"
    }
   ],
   "source": [
    "plt.bar(range(6), p)\n",
    "plt.show()"
   ]
  },
  {
   "cell_type": "markdown",
   "metadata": {},
   "source": [
    "## SDEMアルゴリズム"
   ]
  },
  {
   "cell_type": "code",
   "execution_count": 15,
   "metadata": {},
   "outputs": [],
   "source": [
    "tmp = np.arange(0, np.pi*2, 0.01)\n",
    "y = np.array([np.sin(tmp), np.cos(tmp)]).T"
   ]
  },
  {
   "cell_type": "code",
   "execution_count": 16,
   "metadata": {},
   "outputs": [
    {
     "data": {
      "image/png": "[encoded data removed]",
      "text/plain": [
       "<matplotlib.figure.Figure at 0x10c83e7b8>"
      ]
     },
     "metadata": {},
     "output_type": "display_data"
    }
   ],
   "source": [
    "plt.plot(y.T[0])\n",
    "plt.show()"
   ]
  },
  {
   "cell_type": "code",
   "execution_count": 42,
   "metadata": {},
   "outputs": [],
   "source": [
    "class SDEM:\n",
    "    def __init__(self, r, alpha, k, T, d):\n",
    "        \"\"\"\n",
    "        \"\"\"\n",
    "        self.r = r\n",
    "        self.alpha = alpha\n",
    "        self.k = k\n",
    "        self.T = T + 1\n",
    "        self.d = d\n",
    "        \n",
    "        self.mu = np.zeros((self.T, self.k, self.d))\n",
    "        self.mu_ = np.zeros((self.T, self.k, self.d))\n",
    "        self.c = np.zeros((self.T, self.k))\n",
    "        self.Lambda = np.zeros((self.T, self.k, self.d, self.d))\n",
    "        self.Lambda_ = np.zeros((self.T, self.k, self.d, self.d))\n",
    "        \n",
    "        for i in range(self.k):\n",
    "            self.mu_[0, i] = np.random.uniform(low=-1.0, high=1.0, size=2)\n",
    "            self.mu[0, i] = np.random.uniform(low=-1.0, high=1.0, size=2)\n",
    "            self.c[0, i] = 1 / self.k\n",
    "            self.Lambda_[0, i] = np.identity(self.d) * 0.1\n",
    "            self.Lambda[0, i] = np.copy(self.Lambda_[0, i])\n",
    "        \n",
    "        self.t = 1\n",
    "    \n",
    "    def update(self, idy):\n",
    "        \"\"\"\n",
    "        オンライン学習\n",
    "        \"\"\"\n",
    "        for i in range(self.k):\n",
    "            t = self.t\n",
    "            p_tmp = 1 / ((2 * np.pi) *+ (self.d/2) * np.linalg.det(self.Lambda[t-1, i])**(0.5))\n",
    "            p = p_tmp * np.exp(-0.5 * (np.dot(np.dot((idy - self.mu[t-1, i]).T, np.linalg.inv(self.Lambda[t-1, i])), (idy - self.mu[t-1, i]))))\n",
    "            \n",
    "            gamma = (1 - self.alpha * self.r) * ((self.c[t-1, i] * p) / (self.c[t-1].sum() * p)) + (self.alpha * self.r) / self.k\n",
    "            self.c[t, i] = (1 - self.r) * self.c[t-1, i] + self.r * gamma\n",
    "            self.mu_[t, i] = (1 - self.r) * self.mu_[t-1, i] + self.r * gamma * idy\n",
    "            self.mu[t, i] = self.mu_[t, i] / self.c[t, i]\n",
    "            self.Lambda_[t, i] = (1 - self.r) * self.Lambda_[t-1, i] + self.r * gamma * np.dot(idy, idy.T)\n",
    "            self.Lambda[t, i] = self.Lambda_[t, i] / self.c[t, i] -self.mu[t, i] * self.mu[t, i].T\n",
    "            \n",
    "        self.t += 1\n",
    "    \n",
    "    def train(self, y):\n",
    "        \"\"\"\n",
    "        バッチ学習\n",
    "        \"\"\"\n",
    "        while self.t < self.T:\n",
    "            self.update(y[self.t-1])"
   ]
  },
  {
   "cell_type": "code",
   "execution_count": 43,
   "metadata": {},
   "outputs": [],
   "source": [
    "alpha = 1.0\n",
    "r = 0.1\n",
    "k = 6\n",
    "T = y.shape[0]\n",
    "d = y.shape[1]\n",
    "\n",
    "sdem = SDEM(r, alpha, k, T, d)"
   ]
  },
  {
   "cell_type": "code",
   "execution_count": 44,
   "metadata": {},
   "outputs": [
    {
     "name": "stderr",
     "output_type": "stream",
     "text": [
      "//anaconda/lib/python3.6/site-packages/ipykernel/__main__.py:32: RuntimeWarning: invalid value encountered in double_scalars\n",
      "//anaconda/lib/python3.6/site-packages/numpy/linalg/linalg.py:1776: RuntimeWarning: invalid value encountered in det\n",
      "  r = _umath_linalg.det(a, signature=signature)\n"
     ]
    }
   ],
   "source": [
    "sdem.train(y)"
   ]
  },
  {
   "cell_type": "code",
   "execution_count": 47,
   "metadata": {},
   "outputs": [
    {
     "data": {
      "text/plain": [
       "array([[[ nan,  nan],\n",
       "        [ nan,  nan]],\n",
       "\n",
       "       [[ nan,  nan],\n",
       "        [ nan,  nan]],\n",
       "\n",
       "       [[ nan,  nan],\n",
       "        [ nan,  nan]],\n",
       "\n",
       "       [[ nan,  nan],\n",
       "        [ nan,  nan]],\n",
       "\n",
       "       [[ nan,  nan],\n",
       "        [ nan,  nan]],\n",
       "\n",
       "       [[ nan,  nan],\n",
       "        [ nan,  nan]]])"
      ]
     },
     "execution_count": 47,
     "metadata": {},
     "output_type": "execute_result"
    }
   ],
   "source": [
    "sdem.Lambda[2]"
   ]
  },
  {
   "cell_type": "code",
   "execution_count": 37,
   "metadata": {},
   "outputs": [],
   "source": [
    "sigma = np.asanyarray(\n",
    "        [ [[0.1,  0],[ 0, 0.1]],\n",
    "          [[0.1,  0],[ 0, 0.1]],\n",
    "          [[0.1,  0],[ 0, 0.1]] ])"
   ]
  },
  {
   "cell_type": "code",
   "execution_count": 40,
   "metadata": {},
   "outputs": [
    {
     "data": {
      "text/plain": [
       "array([[[ 0.1,  0. ],\n",
       "        [ 0. ,  0.1]],\n",
       "\n",
       "       [[ 0.1,  0. ],\n",
       "        [ 0. ,  0.1]],\n",
       "\n",
       "       [[ 0.1,  0. ],\n",
       "        [ 0. ,  0.1]]])"
      ]
     },
     "execution_count": 40,
     "metadata": {},
     "output_type": "execute_result"
    }
   ],
   "source": [
    "sigma"
   ]
  },
  {
   "cell_type": "code",
   "execution_count": null,
   "metadata": {},
   "outputs": [],
   "source": []
  }
 ],
 "metadata": {
  "kernelspec": {
   "display_name": "Python [default]",
   "language": "python",
   "name": "python3"
  },
  "language_info": {
   "codemirror_mode": {
    "name": "ipython",
    "version": 3
   },
   "file_extension": ".py",
   "mimetype": "text/x-python",
   "name": "python",
   "nbconvert_exporter": "python",
   "pygments_lexer": "ipython3",
   "version": "3.6.5"
  }
 },
 "nbformat": 4,
 "nbformat_minor": 2
}
