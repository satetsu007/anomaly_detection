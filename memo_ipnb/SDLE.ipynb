{
 "cells": [
  {
   "cell_type": "code",
   "execution_count": 1,
   "metadata": {},
   "outputs": [],
   "source": [
    "#-*- coding:utf-8 -*-\n",
    "import numpy as np\n",
    "import pandas as pd\n",
    "import matplotlib.pyplot as plt\n",
    "import numpy.random as rd\n",
    "import itertools"
   ]
  },
  {
   "cell_type": "code",
   "execution_count": 2,
   "metadata": {
    "scrolled": true
   },
   "outputs": [
    {
     "name": "stdout",
     "output_type": "stream",
     "text": [
      "[5 2 0 4 3 1 0 2 3 3 4 1 3 5 4 5 4 3 1 1 1 5 5 5 1 3 4 3 0 5 0 1 2 1 1 3 5\n",
      " 5 4 2 2 3 1 1 3 4 2 0 0 4 3 2 4 1 3 4 5 5 4 0 0 4 3 1 3 2 5 5 1 3 5 1 2 3\n",
      " 4 5 1 0 1 1 0 2 1 4 5 5 0 0 0 0 5 4 3 3 5 3 3 2 5 4 4 4 4 1 2 3 3 3 0 2 1\n",
      " 1 0 5 2 1 5 0 1 0 5 5 4 0 0 4 4 4 4 0 3 0 0 0 1 2 3 0 3 4 2 1 0 2 0 5 3 0\n",
      " 3 5 4 2 0 5 3 3 3 3 4 4 1 4 2 2 3 4 2 0 1 1 1 0 3 2 1 4 4 1 3 3 4 5 2 4 1\n",
      " 3 0 0 5 3 0 3 0 0 0 3 1 5 0 4 1 4 5 2 5 3 4 1 5 3 5 4 2 4 2 0 1 1 1 5 4 3\n",
      " 4 1 3 2 4 3 0 0 1 5 0 3 0 2 5 4 1 0 5 3 1 1 4 4 5 1 1 4 1 1 5 1 1 4 3 5 0\n",
      " 0 3 2 1 5 2 4 2 2 4 1 3 3 0 4 1 1 3 4 1 2 1 4 3 3 4 2 5 1 0 5 4 2 1 4 0 3\n",
      " 1 0 5 4 5 2 3 5 4 3 1 2 3 0 5 4 3 1 4 2 5 4 0 2 5 0 3 1 0 3 3 0 3 3 1 0 5\n",
      " 5 3 2 0 2 0 5 0 3 2 3 5 5 1 1 2 2 4 0 4 3 2 4 1 0 1 4 4 0 0 3 1 1 5 3 0 0\n",
      " 1 2 5 5 4 1 3 4 3 1 4 0 0 1 3 3 1 5 1 5 0 0 2 2 1 2 1 2 5 2 0 1 4 0 0 2 2\n",
      " 3 4 1 5 4 4 2 3 0 4 0 2 4 1 5 5 0 0 2 0 5 0 0 2 5 5 5 2 0 1 5 2 0 4 2 2 0\n",
      " 1 0 4 1 0 1 4 0 3 4 4 1 1 5 0 0 5 1 2 3 4 3 1 1 2 0 3 1 0 3 0 3 4 2 1 0 2\n",
      " 2 0 4 5 5 4 1 1 0 3 2 3 2 1 2 0 4 4 0]\n"
     ]
    }
   ],
   "source": [
    "#データ生成(離散値ベクトル)\n",
    "rd.seed(0)\n",
    "T = 500 #データ数(観測数)\n",
    "x_1 = np.array([np.argmax(i) for i in rd.multinomial(1, [1/6]*6,T)])\n",
    "x_2 = rd.binomial(1, 0.5, T)\n",
    "#x = np.c_[x_1, x_2]\n",
    "x = x_1\n",
    "print(x)"
   ]
  },
  {
   "cell_type": "code",
   "execution_count": 3,
   "metadata": {},
   "outputs": [
    {
     "name": "stdout",
     "output_type": "stream",
     "text": [
      "[(0,), (1,), (2,), (3,), (4,), (5,)]\n"
     ]
    }
   ],
   "source": [
    "#領域の分割\n",
    "#A = list(itertools.product(set(x_1), set(x_2)))\n",
    "A = list(itertools.product(set(x_1)))\n",
    "\n",
    "print(A)\n",
    "\n",
    "#Given\n",
    "M = len(A) #セルの数\n",
    "r = 1 / T #忘却係数\n",
    "beta = 1  #正の定数"
   ]
  },
  {
   "cell_type": "code",
   "execution_count": 4,
   "metadata": {},
   "outputs": [],
   "source": [
    "#初期化\n",
    "T_t = np.zeros((T+1,M))\n",
    "t = 1\n",
    "prob = np.zeros((T+1, M))\n",
    "A_det = np.zeros(M)"
   ]
  },
  {
   "cell_type": "code",
   "execution_count": 5,
   "metadata": {},
   "outputs": [],
   "source": [
    "#パラメータの更新\n",
    "while t <= T:\n",
    "    #print(\"x_t:\", x[t-1])\n",
    "    x_t = x[t-1] #\n",
    "    if isinstance(x_t, np.int64):\n",
    "        x_t = np.array([x_t])\n",
    "    \n",
    "    for i, A_m in enumerate(A):\n",
    "        delta = 0\n",
    "        if np.array_equal(x_t, np.array(A_m)):\n",
    "            delta = 1\n",
    "            A_det[i] += 1\n",
    "            \n",
    "        T_t[t,i] = (1-r) * T_t[t-1,i] + delta\n",
    "        q = (T_t[t,i] + beta) / ((1 - (1-r)**t)/r + M*beta)\n",
    "        \n",
    "        if not A_det[i] == 0:\n",
    "            prob[t, i] = q / A_det[i]\n",
    "    \n",
    "    t += 1"
   ]
  },
  {
   "cell_type": "code",
   "execution_count": 6,
   "metadata": {
    "scrolled": true
   },
   "outputs": [
    {
     "data": {
      "text/plain": [
       "array([[0.        , 0.        , 0.        , 0.        , 0.        ,\n",
       "        0.        ],\n",
       "       [0.        , 0.        , 0.        , 0.        , 0.        ,\n",
       "        0.28571429],\n",
       "       [0.        , 0.        , 0.25006252, 0.        , 0.        ,\n",
       "        0.24981245],\n",
       "       ...,\n",
       "       [0.00208236, 0.00201122, 0.00212768, 0.00191246, 0.00196691,\n",
       "        0.00195242],\n",
       "       [0.00207588, 0.00200497, 0.00212108, 0.00190652, 0.00197428,\n",
       "        0.00194636],\n",
       "       [0.00208031, 0.00199874, 0.00211451, 0.0019006 , 0.00196815,\n",
       "        0.00194034]])"
      ]
     },
     "execution_count": 6,
     "metadata": {},
     "output_type": "execute_result"
    }
   ],
   "source": [
    "prob"
   ]
  },
  {
   "cell_type": "code",
   "execution_count": 7,
   "metadata": {},
   "outputs": [
    {
     "data": {
      "text/plain": [
       "array([0.00208031, 0.00199874, 0.00211451, 0.0019006 , 0.00196815,\n",
       "       0.00194034])"
      ]
     },
     "execution_count": 7,
     "metadata": {},
     "output_type": "execute_result"
    }
   ],
   "source": [
    "prob[-1]"
   ]
  },
  {
   "cell_type": "code",
   "execution_count": 8,
   "metadata": {},
   "outputs": [
    {
     "data": {
      "text/plain": [
       "<BarContainer object of 6 artists>"
      ]
     },
     "execution_count": 8,
     "metadata": {},
     "output_type": "execute_result"
    },
    {
     "data": {
      "image/png": "[encoded data removed]",
      "text/plain": [
       "<Figure size 432x288 with 1 Axes>"
      ]
     },
     "metadata": {},
     "output_type": "display_data"
    }
   ],
   "source": [
    "plt.bar(range(M), prob[-1])"
   ]
  },
  {
   "cell_type": "code",
   "execution_count": 9,
   "metadata": {},
   "outputs": [
    {
     "data": {
      "text/plain": [
       "(array([95.,  0., 94.,  0., 69.,  0., 84.,  0., 85., 73.]),\n",
       " array([0. , 0.5, 1. , 1.5, 2. , 2.5, 3. , 3.5, 4. , 4.5, 5. ]),\n",
       " <a list of 10 Patch objects>)"
      ]
     },
     "execution_count": 9,
     "metadata": {},
     "output_type": "execute_result"
    },
    {
     "data": {
      "image/png": "[encoded data removed]",
      "text/plain": [
       "<Figure size 432x288 with 1 Axes>"
      ]
     },
     "metadata": {},
     "output_type": "display_data"
    }
   ],
   "source": [
    "plt.hist(x, rwidth=0.9)"
   ]
  },
  {
   "cell_type": "code",
   "execution_count": 12,
   "metadata": {},
   "outputs": [
    {
     "data": {
      "text/plain": [
       "array([95., 94., 69., 84., 85., 73.])"
      ]
     },
     "execution_count": 12,
     "metadata": {},
     "output_type": "execute_result"
    }
   ],
   "source": [
    "A_det"
   ]
  },
  {
   "cell_type": "code",
   "execution_count": null,
   "metadata": {},
   "outputs": [],
   "source": []
  }
 ],
 "metadata": {
  "kernelspec": {
   "display_name": "Python 3",
   "language": "python",
   "name": "python3"
  },
  "language_info": {
   "codemirror_mode": {
    "name": "ipython",
    "version": 3
   },
   "file_extension": ".py",
   "mimetype": "text/x-python",
   "name": "python",
   "nbconvert_exporter": "python",
   "pygments_lexer": "ipython3",
   "version": "3.6.5"
  }
 },
 "nbformat": 4,
 "nbformat_minor": 2
}
